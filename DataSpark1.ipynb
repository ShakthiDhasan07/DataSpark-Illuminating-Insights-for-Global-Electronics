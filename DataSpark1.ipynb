{
 "cells": [
  {
   "cell_type": "markdown",
   "id": "1b9654ed-c8cd-4669-92dd-80cfad78739b",
   "metadata": {},
   "source": [
    "# DataSpark: Illuminating Insights for Global Electronics"
   ]
  },
  {
   "cell_type": "code",
   "execution_count": 3,
   "id": "81c378db-d0c4-4a54-8548-b225ca15b048",
   "metadata": {},
   "outputs": [],
   "source": [
    "import pandas as pd\n",
    "import matplotlib.pyplot as plt\n",
    "import seaborn as sns\n",
    "import pandas as pd\n",
    "from datetime import datetime\n",
    "import mysql.connector"
   ]
  },
  {
   "cell_type": "code",
   "execution_count": 5,
   "id": "b28ab605-92f7-498d-8beb-7696e3609eb1",
   "metadata": {},
   "outputs": [],
   "source": [
    "df_store=pd.read_csv(\"Stores.csv\")"
   ]
  },
  {
   "cell_type": "code",
   "execution_count": 7,
   "id": "af46b1eb-b705-4b24-9b9a-210d6ddd92a0",
   "metadata": {},
   "outputs": [
    {
     "name": "stdout",
     "output_type": "stream",
     "text": [
      "<class 'pandas.core.frame.DataFrame'>\n",
      "RangeIndex: 67 entries, 0 to 66\n",
      "Data columns (total 5 columns):\n",
      " #   Column         Non-Null Count  Dtype  \n",
      "---  ------         --------------  -----  \n",
      " 0   StoreKey       67 non-null     int64  \n",
      " 1   Country        67 non-null     object \n",
      " 2   State          67 non-null     object \n",
      " 3   Square Meters  66 non-null     float64\n",
      " 4   Open Date      67 non-null     object \n",
      "dtypes: float64(1), int64(1), object(3)\n",
      "memory usage: 2.7+ KB\n"
     ]
    }
   ],
   "source": [
    "df_store.info()"
   ]
  },
  {
   "cell_type": "code",
   "execution_count": 9,
   "id": "224535f1-78e4-4326-96e6-c0c34e70ea75",
   "metadata": {},
   "outputs": [
    {
     "data": {
      "text/html": [
       "<div>\n",
       "<style scoped>\n",
       "    .dataframe tbody tr th:only-of-type {\n",
       "        vertical-align: middle;\n",
       "    }\n",
       "\n",
       "    .dataframe tbody tr th {\n",
       "        vertical-align: top;\n",
       "    }\n",
       "\n",
       "    .dataframe thead th {\n",
       "        text-align: right;\n",
       "    }\n",
       "</style>\n",
       "<table border=\"1\" class=\"dataframe\">\n",
       "  <thead>\n",
       "    <tr style=\"text-align: right;\">\n",
       "      <th></th>\n",
       "      <th>StoreKey</th>\n",
       "      <th>Country</th>\n",
       "      <th>State</th>\n",
       "      <th>Square Meters</th>\n",
       "      <th>Open Date</th>\n",
       "    </tr>\n",
       "  </thead>\n",
       "  <tbody>\n",
       "    <tr>\n",
       "      <th>0</th>\n",
       "      <td>1</td>\n",
       "      <td>Australia</td>\n",
       "      <td>Australian Capital Territory</td>\n",
       "      <td>595.0</td>\n",
       "      <td>1/1/2008</td>\n",
       "    </tr>\n",
       "    <tr>\n",
       "      <th>1</th>\n",
       "      <td>2</td>\n",
       "      <td>Australia</td>\n",
       "      <td>Northern Territory</td>\n",
       "      <td>665.0</td>\n",
       "      <td>1/12/2008</td>\n",
       "    </tr>\n",
       "    <tr>\n",
       "      <th>2</th>\n",
       "      <td>3</td>\n",
       "      <td>Australia</td>\n",
       "      <td>South Australia</td>\n",
       "      <td>2000.0</td>\n",
       "      <td>1/7/2012</td>\n",
       "    </tr>\n",
       "    <tr>\n",
       "      <th>3</th>\n",
       "      <td>4</td>\n",
       "      <td>Australia</td>\n",
       "      <td>Tasmania</td>\n",
       "      <td>2000.0</td>\n",
       "      <td>1/1/2010</td>\n",
       "    </tr>\n",
       "    <tr>\n",
       "      <th>4</th>\n",
       "      <td>5</td>\n",
       "      <td>Australia</td>\n",
       "      <td>Victoria</td>\n",
       "      <td>2000.0</td>\n",
       "      <td>12/9/2015</td>\n",
       "    </tr>\n",
       "    <tr>\n",
       "      <th>...</th>\n",
       "      <td>...</td>\n",
       "      <td>...</td>\n",
       "      <td>...</td>\n",
       "      <td>...</td>\n",
       "      <td>...</td>\n",
       "    </tr>\n",
       "    <tr>\n",
       "      <th>62</th>\n",
       "      <td>63</td>\n",
       "      <td>United States</td>\n",
       "      <td>Utah</td>\n",
       "      <td>2000.0</td>\n",
       "      <td>3/6/2008</td>\n",
       "    </tr>\n",
       "    <tr>\n",
       "      <th>63</th>\n",
       "      <td>64</td>\n",
       "      <td>United States</td>\n",
       "      <td>Washington DC</td>\n",
       "      <td>1330.0</td>\n",
       "      <td>1/1/2010</td>\n",
       "    </tr>\n",
       "    <tr>\n",
       "      <th>64</th>\n",
       "      <td>65</td>\n",
       "      <td>United States</td>\n",
       "      <td>West Virginia</td>\n",
       "      <td>1785.0</td>\n",
       "      <td>1/1/2012</td>\n",
       "    </tr>\n",
       "    <tr>\n",
       "      <th>65</th>\n",
       "      <td>66</td>\n",
       "      <td>United States</td>\n",
       "      <td>Wyoming</td>\n",
       "      <td>840.0</td>\n",
       "      <td>1/1/2014</td>\n",
       "    </tr>\n",
       "    <tr>\n",
       "      <th>66</th>\n",
       "      <td>0</td>\n",
       "      <td>Online</td>\n",
       "      <td>Online</td>\n",
       "      <td>NaN</td>\n",
       "      <td>1/1/2010</td>\n",
       "    </tr>\n",
       "  </tbody>\n",
       "</table>\n",
       "<p>67 rows × 5 columns</p>\n",
       "</div>"
      ],
      "text/plain": [
       "    StoreKey        Country                         State  Square Meters  \\\n",
       "0          1      Australia  Australian Capital Territory          595.0   \n",
       "1          2      Australia            Northern Territory          665.0   \n",
       "2          3      Australia               South Australia         2000.0   \n",
       "3          4      Australia                      Tasmania         2000.0   \n",
       "4          5      Australia                      Victoria         2000.0   \n",
       "..       ...            ...                           ...            ...   \n",
       "62        63  United States                          Utah         2000.0   \n",
       "63        64  United States                 Washington DC         1330.0   \n",
       "64        65  United States                 West Virginia         1785.0   \n",
       "65        66  United States                       Wyoming          840.0   \n",
       "66         0         Online                        Online            NaN   \n",
       "\n",
       "    Open Date  \n",
       "0    1/1/2008  \n",
       "1   1/12/2008  \n",
       "2    1/7/2012  \n",
       "3    1/1/2010  \n",
       "4   12/9/2015  \n",
       "..        ...  \n",
       "62   3/6/2008  \n",
       "63   1/1/2010  \n",
       "64   1/1/2012  \n",
       "65   1/1/2014  \n",
       "66   1/1/2010  \n",
       "\n",
       "[67 rows x 5 columns]"
      ]
     },
     "execution_count": 9,
     "metadata": {},
     "output_type": "execute_result"
    }
   ],
   "source": [
    "df_store"
   ]
  },
  {
   "cell_type": "code",
   "execution_count": 11,
   "id": "5a03b2a1-ffc5-4765-a59e-a966f839a601",
   "metadata": {},
   "outputs": [
    {
     "data": {
      "text/plain": [
       "StoreKey         0\n",
       "Country          0\n",
       "State            0\n",
       "Square Meters    1\n",
       "Open Date        0\n",
       "dtype: int64"
      ]
     },
     "execution_count": 11,
     "metadata": {},
     "output_type": "execute_result"
    }
   ],
   "source": [
    "df_store.isna().sum()\n"
   ]
  },
  {
   "cell_type": "code",
   "execution_count": 13,
   "id": "78c70f0d-d3c3-4a97-bed2-13a2787605f8",
   "metadata": {},
   "outputs": [],
   "source": [
    "df_store[\"Open Date\"]=pd.to_datetime(df_store[\"Open Date\"])"
   ]
  },
  {
   "cell_type": "code",
   "execution_count": 15,
   "id": "77387a2a-8084-482f-b35b-8e5358ae5e7c",
   "metadata": {},
   "outputs": [],
   "source": [
    "df_store.fillna(0,inplace=True)"
   ]
  },
  {
   "cell_type": "code",
   "execution_count": 17,
   "id": "570721b3-9b24-4cb1-b0c0-124ff1b2d4db",
   "metadata": {},
   "outputs": [],
   "source": [
    "df_store.drop_duplicates(inplace=True)"
   ]
  },
  {
   "cell_type": "code",
   "execution_count": 19,
   "id": "19bb3ac6-7daa-4654-bb62-c2b35d7c2081",
   "metadata": {},
   "outputs": [],
   "source": [
    "import pandas as pd"
   ]
  },
  {
   "cell_type": "code",
   "execution_count": 21,
   "id": "d16cc97c-ea62-48e3-bacc-41ab7454ef1c",
   "metadata": {},
   "outputs": [
    {
     "data": {
      "text/plain": [
       "StoreKey                  int64\n",
       "Country                  object\n",
       "State                    object\n",
       "Square Meters           float64\n",
       "Open Date        datetime64[ns]\n",
       "dtype: object"
      ]
     },
     "execution_count": 21,
     "metadata": {},
     "output_type": "execute_result"
    }
   ],
   "source": [
    "df_store.dtypes"
   ]
  },
  {
   "cell_type": "code",
   "execution_count": 23,
   "id": "d94ad1fa-19fb-4496-b59a-2c5f2eb1ecc1",
   "metadata": {},
   "outputs": [],
   "source": [
    "df_store.columns=df_store.columns.str.replace(\" \",\"\")"
   ]
  },
  {
   "cell_type": "code",
   "execution_count": 25,
   "id": "35c38e77-0325-448b-86ef-8bd347d14cef",
   "metadata": {},
   "outputs": [],
   "source": [
    "df_store.rename(columns={\n",
    "    'State'     : 'Store_State',\n",
    "    'Country'   : 'Store_Country',\n",
    "    }, inplace=True)"
   ]
  },
  {
   "cell_type": "code",
   "execution_count": 27,
   "id": "c1149454-f024-40ba-939c-0e321257784f",
   "metadata": {},
   "outputs": [],
   "source": [
    "def get_age(date):\n",
    "    today = datetime.now()\n",
    "    return(today.year - date.year - ((today.month, today.day) < (date.month, date.day)))"
   ]
  },
  {
   "cell_type": "code",
   "execution_count": 29,
   "id": "f07867d5-bd8a-472e-826b-5a53cd628439",
   "metadata": {},
   "outputs": [],
   "source": [
    "df_store['StoreAge'] = df_store['OpenDate'].apply(get_age)"
   ]
  },
  {
   "cell_type": "code",
   "execution_count": 31,
   "id": "9923b7dc-98dd-4f43-9800-d1b4e26c9013",
   "metadata": {},
   "outputs": [
    {
     "data": {
      "text/html": [
       "<div>\n",
       "<style scoped>\n",
       "    .dataframe tbody tr th:only-of-type {\n",
       "        vertical-align: middle;\n",
       "    }\n",
       "\n",
       "    .dataframe tbody tr th {\n",
       "        vertical-align: top;\n",
       "    }\n",
       "\n",
       "    .dataframe thead th {\n",
       "        text-align: right;\n",
       "    }\n",
       "</style>\n",
       "<table border=\"1\" class=\"dataframe\">\n",
       "  <thead>\n",
       "    <tr style=\"text-align: right;\">\n",
       "      <th></th>\n",
       "      <th>StoreKey</th>\n",
       "      <th>Store_Country</th>\n",
       "      <th>Store_State</th>\n",
       "      <th>SquareMeters</th>\n",
       "      <th>OpenDate</th>\n",
       "      <th>StoreAge</th>\n",
       "    </tr>\n",
       "  </thead>\n",
       "  <tbody>\n",
       "    <tr>\n",
       "      <th>0</th>\n",
       "      <td>1</td>\n",
       "      <td>Australia</td>\n",
       "      <td>Australian Capital Territory</td>\n",
       "      <td>595.0</td>\n",
       "      <td>2008-01-01</td>\n",
       "      <td>16</td>\n",
       "    </tr>\n",
       "    <tr>\n",
       "      <th>1</th>\n",
       "      <td>2</td>\n",
       "      <td>Australia</td>\n",
       "      <td>Northern Territory</td>\n",
       "      <td>665.0</td>\n",
       "      <td>2008-01-12</td>\n",
       "      <td>16</td>\n",
       "    </tr>\n",
       "    <tr>\n",
       "      <th>2</th>\n",
       "      <td>3</td>\n",
       "      <td>Australia</td>\n",
       "      <td>South Australia</td>\n",
       "      <td>2000.0</td>\n",
       "      <td>2012-01-07</td>\n",
       "      <td>12</td>\n",
       "    </tr>\n",
       "    <tr>\n",
       "      <th>3</th>\n",
       "      <td>4</td>\n",
       "      <td>Australia</td>\n",
       "      <td>Tasmania</td>\n",
       "      <td>2000.0</td>\n",
       "      <td>2010-01-01</td>\n",
       "      <td>14</td>\n",
       "    </tr>\n",
       "    <tr>\n",
       "      <th>4</th>\n",
       "      <td>5</td>\n",
       "      <td>Australia</td>\n",
       "      <td>Victoria</td>\n",
       "      <td>2000.0</td>\n",
       "      <td>2015-12-09</td>\n",
       "      <td>9</td>\n",
       "    </tr>\n",
       "    <tr>\n",
       "      <th>5</th>\n",
       "      <td>6</td>\n",
       "      <td>Australia</td>\n",
       "      <td>Western Australia</td>\n",
       "      <td>2000.0</td>\n",
       "      <td>2010-01-01</td>\n",
       "      <td>14</td>\n",
       "    </tr>\n",
       "    <tr>\n",
       "      <th>6</th>\n",
       "      <td>7</td>\n",
       "      <td>Canada</td>\n",
       "      <td>New Brunswick</td>\n",
       "      <td>1105.0</td>\n",
       "      <td>2007-05-07</td>\n",
       "      <td>17</td>\n",
       "    </tr>\n",
       "    <tr>\n",
       "      <th>7</th>\n",
       "      <td>8</td>\n",
       "      <td>Canada</td>\n",
       "      <td>Newfoundland and Labrador</td>\n",
       "      <td>2105.0</td>\n",
       "      <td>2014-07-02</td>\n",
       "      <td>10</td>\n",
       "    </tr>\n",
       "    <tr>\n",
       "      <th>8</th>\n",
       "      <td>9</td>\n",
       "      <td>Canada</td>\n",
       "      <td>Northwest Territories</td>\n",
       "      <td>1500.0</td>\n",
       "      <td>2005-03-04</td>\n",
       "      <td>19</td>\n",
       "    </tr>\n",
       "    <tr>\n",
       "      <th>9</th>\n",
       "      <td>10</td>\n",
       "      <td>Canada</td>\n",
       "      <td>Nunavut</td>\n",
       "      <td>1210.0</td>\n",
       "      <td>2015-04-04</td>\n",
       "      <td>9</td>\n",
       "    </tr>\n",
       "  </tbody>\n",
       "</table>\n",
       "</div>"
      ],
      "text/plain": [
       "   StoreKey Store_Country                   Store_State  SquareMeters  \\\n",
       "0         1     Australia  Australian Capital Territory         595.0   \n",
       "1         2     Australia            Northern Territory         665.0   \n",
       "2         3     Australia               South Australia        2000.0   \n",
       "3         4     Australia                      Tasmania        2000.0   \n",
       "4         5     Australia                      Victoria        2000.0   \n",
       "5         6     Australia             Western Australia        2000.0   \n",
       "6         7        Canada                 New Brunswick        1105.0   \n",
       "7         8        Canada     Newfoundland and Labrador        2105.0   \n",
       "8         9        Canada         Northwest Territories        1500.0   \n",
       "9        10        Canada                       Nunavut        1210.0   \n",
       "\n",
       "    OpenDate  StoreAge  \n",
       "0 2008-01-01        16  \n",
       "1 2008-01-12        16  \n",
       "2 2012-01-07        12  \n",
       "3 2010-01-01        14  \n",
       "4 2015-12-09         9  \n",
       "5 2010-01-01        14  \n",
       "6 2007-05-07        17  \n",
       "7 2014-07-02        10  \n",
       "8 2005-03-04        19  \n",
       "9 2015-04-04         9  "
      ]
     },
     "execution_count": 31,
     "metadata": {},
     "output_type": "execute_result"
    }
   ],
   "source": [
    "df_store.head(10)"
   ]
  },
  {
   "cell_type": "code",
   "execution_count": 33,
   "id": "a3038b96-90d7-4e99-9b6e-e38d213df8fe",
   "metadata": {},
   "outputs": [],
   "source": [
    "df_store.to_csv(\"Cleaned_store.csv\")"
   ]
  },
  {
   "cell_type": "code",
   "execution_count": 35,
   "id": "b845fbcd-6bb4-4397-8ad9-9841f3133e88",
   "metadata": {},
   "outputs": [
    {
     "data": {
      "text/plain": [
       "Text(0, 0.5, 'Frequency')"
      ]
     },
     "execution_count": 35,
     "metadata": {},
     "output_type": "execute_result"
    },
    {
     "data": {
      "image/png": "[encoded data removed]",
      "text/plain": [
       "<Figure size 640x480 with 1 Axes>"
      ]
     },
     "metadata": {},
     "output_type": "display_data"
    }
   ],
   "source": [
    "# 1. Distribution of Square Meters\n",
    "plt.subplot(2, 2, 1)\n",
    "sns.histplot(df_store['SquareMeters'], bins=20, kde=True)\n",
    "plt.title('Distribution of Square Meters')\n",
    "plt.xlabel('Square Meters')\n",
    "plt.ylabel('Frequency')"
   ]
  },
  {
   "cell_type": "code",
   "execution_count": 37,
   "id": "79352606-9741-4857-9ba7-b82c7ee75912",
   "metadata": {},
   "outputs": [
    {
     "data": {
      "image/png": "[encoded data removed]",
      "text/plain": [
       "<Figure size 640x480 with 1 Axes>"
      ]
     },
     "metadata": {},
     "output_type": "display_data"
    }
   ],
   "source": [
    "# 2. Stores by Country (Top 10 Countries) \n",
    "plt.subplot(2, 2, 2)\n",
    "if 'Store_Country' in df_store.columns:\n",
    "    sns.countplot(y='Store_Country', data=df_store, order=df_store['Store_Country'].value_counts().index[:10])\n",
    "    plt.title('Top 10 Countries by Store Count')\n",
    "    plt.xlabel('Count')\n",
    "    plt.ylabel('Country')"
   ]
  },
  {
   "cell_type": "code",
   "execution_count": 39,
   "id": "ef2c2c75-fe22-4131-9d66-bb7db46ebe13",
   "metadata": {},
   "outputs": [
    {
     "data": {
      "image/png": "[encoded data removed]",
      "text/plain": [
       "<Figure size 640x480 with 1 Axes>"
      ]
     },
     "metadata": {},
     "output_type": "display_data"
    }
   ],
   "source": [
    "# 3. States by Store Age (Top 10 States)\n",
    "plt.subplot(2, 2, 3)\n",
    "if 'Store_State' in df_store.columns:\n",
    "    sns.countplot(y='Store_State', data=df_store, order=df_store['Store_State'].value_counts().index[:10])\n",
    "    plt.title('Top 10 States by Store Count')\n",
    "    plt.xlabel('Count')\n",
    "    plt.ylabel('State')"
   ]
  },
  {
   "cell_type": "code",
   "execution_count": 157,
   "id": "771b833c-9eed-448d-8434-4b04bce8b6b7",
   "metadata": {},
   "outputs": [
    {
     "data": {
      "text/plain": [
       "Index(['Order Number', 'Line Item', 'Order Date', 'Delivery Date',\n",
       "       'CustomerKey', 'StoreKey', 'ProductKey', 'Quantity', 'Currency Code'],\n",
       "      dtype='object')"
      ]
     },
     "execution_count": 157,
     "metadata": {},
     "output_type": "execute_result"
    }
   ],
   "source": [
    "df_sales.columns"
   ]
  },
  {
   "cell_type": "code",
   "execution_count": 159,
   "id": "d88a4d01-42e0-4b20-b38f-5477d0f37c6d",
   "metadata": {},
   "outputs": [
    {
     "data": {
      "text/plain": [
       "Index(['Date', 'Currency', 'Exchange'], dtype='object')"
      ]
     },
     "execution_count": 159,
     "metadata": {},
     "output_type": "execute_result"
    }
   ],
   "source": [
    "df_exchange_rates.columns"
   ]
  },
  {
   "cell_type": "code",
   "execution_count": 163,
   "id": "e36f225e-b39d-4856-a745-652ce11b639f",
   "metadata": {},
   "outputs": [
    {
     "data": {
      "text/plain": [
       "Index(['StoreKey', 'Store_Country', 'Store_State', 'SquareMeters', 'OpenDate',\n",
       "       'StoreAge'],\n",
       "      dtype='object')"
      ]
     },
     "execution_count": 163,
     "metadata": {},
     "output_type": "execute_result"
    }
   ],
   "source": [
    "df_store.columns"
   ]
  },
  {
   "cell_type": "code",
   "execution_count": 167,
   "id": "8892c843-c875-4891-9bde-485290a3647f",
   "metadata": {},
   "outputs": [
    {
     "data": {
      "text/plain": [
       "Index(['ProductKey', 'Product Name', 'Brand', 'Color', 'Unit Cost USD',\n",
       "       'Unit Price USD', 'SubcategoryKey', 'Subcategory', 'CategoryKey',\n",
       "       'Category'],\n",
       "      dtype='object')"
      ]
     },
     "execution_count": 167,
     "metadata": {},
     "output_type": "execute_result"
    }
   ],
   "source": [
    "df_product.columns"
   ]
  },
  {
   "cell_type": "code",
   "execution_count": 169,
   "id": "17ba4594-0519-44b9-b78d-a78f2b19b4cf",
   "metadata": {},
   "outputs": [
    {
     "data": {
      "text/plain": [
       "Index(['CustomerKey', 'Gender', 'Name', 'Cust_City', 'State Code',\n",
       "       'Cust_State', 'Zip Code', 'Cust_Country', 'Cust_Continent', 'Birthday',\n",
       "       'Age'],\n",
       "      dtype='object')"
      ]
     },
     "execution_count": 169,
     "metadata": {},
     "output_type": "execute_result"
    }
   ],
   "source": [
    "df_customer.columns"
   ]
  },
  {
   "cell_type": "code",
   "execution_count": 43,
   "id": "fb5bef0d-4095-4012-b6d3-253a228bd1f4",
   "metadata": {},
   "outputs": [],
   "source": [
    "df_exchange_rates=pd.read_csv(\"Exchange_rates.csv\")"
   ]
  },
  {
   "cell_type": "code",
   "execution_count": 45,
   "id": "082d21b9-4066-4763-afe0-32227ad8e33f",
   "metadata": {},
   "outputs": [
    {
     "data": {
      "text/plain": [
       "Date         object\n",
       "Currency     object\n",
       "Exchange    float64\n",
       "dtype: object"
      ]
     },
     "execution_count": 45,
     "metadata": {},
     "output_type": "execute_result"
    }
   ],
   "source": [
    "df_exchange_rates.dtypes"
   ]
  },
  {
   "cell_type": "code",
   "execution_count": 47,
   "id": "c572aa40-e4b4-4165-a7cc-d46bdaf3c624",
   "metadata": {},
   "outputs": [
    {
     "data": {
      "text/plain": [
       "Date        0\n",
       "Currency    0\n",
       "Exchange    0\n",
       "dtype: int64"
      ]
     },
     "execution_count": 47,
     "metadata": {},
     "output_type": "execute_result"
    }
   ],
   "source": [
    "df_exchange_rates.isna().sum()"
   ]
  },
  {
   "cell_type": "code",
   "execution_count": 49,
   "id": "ae28d42b-2ac9-4855-97bd-d5a41510b576",
   "metadata": {},
   "outputs": [],
   "source": [
    "df_exchange_rates[\"Date\"]=pd.to_datetime(df_exchange_rates[\"Date\"])"
   ]
  },
  {
   "cell_type": "code",
   "execution_count": 51,
   "id": "8fc4e6be-7b2a-4696-9aae-bf6c10c90079",
   "metadata": {},
   "outputs": [
    {
     "data": {
      "text/html": [
       "<div>\n",
       "<style scoped>\n",
       "    .dataframe tbody tr th:only-of-type {\n",
       "        vertical-align: middle;\n",
       "    }\n",
       "\n",
       "    .dataframe tbody tr th {\n",
       "        vertical-align: top;\n",
       "    }\n",
       "\n",
       "    .dataframe thead th {\n",
       "        text-align: right;\n",
       "    }\n",
       "</style>\n",
       "<table border=\"1\" class=\"dataframe\">\n",
       "  <thead>\n",
       "    <tr style=\"text-align: right;\">\n",
       "      <th></th>\n",
       "      <th>Date</th>\n",
       "      <th>Currency</th>\n",
       "      <th>Exchange</th>\n",
       "    </tr>\n",
       "  </thead>\n",
       "  <tbody>\n",
       "    <tr>\n",
       "      <th>0</th>\n",
       "      <td>2015-01-01</td>\n",
       "      <td>USD</td>\n",
       "      <td>1.0000</td>\n",
       "    </tr>\n",
       "    <tr>\n",
       "      <th>1</th>\n",
       "      <td>2015-01-01</td>\n",
       "      <td>CAD</td>\n",
       "      <td>1.1583</td>\n",
       "    </tr>\n",
       "    <tr>\n",
       "      <th>2</th>\n",
       "      <td>2015-01-01</td>\n",
       "      <td>AUD</td>\n",
       "      <td>1.2214</td>\n",
       "    </tr>\n",
       "    <tr>\n",
       "      <th>3</th>\n",
       "      <td>2015-01-01</td>\n",
       "      <td>EUR</td>\n",
       "      <td>0.8237</td>\n",
       "    </tr>\n",
       "    <tr>\n",
       "      <th>4</th>\n",
       "      <td>2015-01-01</td>\n",
       "      <td>GBP</td>\n",
       "      <td>0.6415</td>\n",
       "    </tr>\n",
       "    <tr>\n",
       "      <th>...</th>\n",
       "      <td>...</td>\n",
       "      <td>...</td>\n",
       "      <td>...</td>\n",
       "    </tr>\n",
       "    <tr>\n",
       "      <th>11210</th>\n",
       "      <td>2021-02-20</td>\n",
       "      <td>USD</td>\n",
       "      <td>1.0000</td>\n",
       "    </tr>\n",
       "    <tr>\n",
       "      <th>11211</th>\n",
       "      <td>2021-02-20</td>\n",
       "      <td>CAD</td>\n",
       "      <td>1.2610</td>\n",
       "    </tr>\n",
       "    <tr>\n",
       "      <th>11212</th>\n",
       "      <td>2021-02-20</td>\n",
       "      <td>AUD</td>\n",
       "      <td>1.2723</td>\n",
       "    </tr>\n",
       "    <tr>\n",
       "      <th>11213</th>\n",
       "      <td>2021-02-20</td>\n",
       "      <td>EUR</td>\n",
       "      <td>0.8238</td>\n",
       "    </tr>\n",
       "    <tr>\n",
       "      <th>11214</th>\n",
       "      <td>2021-02-20</td>\n",
       "      <td>GBP</td>\n",
       "      <td>0.7126</td>\n",
       "    </tr>\n",
       "  </tbody>\n",
       "</table>\n",
       "<p>11215 rows × 3 columns</p>\n",
       "</div>"
      ],
      "text/plain": [
       "            Date Currency  Exchange\n",
       "0     2015-01-01      USD    1.0000\n",
       "1     2015-01-01      CAD    1.1583\n",
       "2     2015-01-01      AUD    1.2214\n",
       "3     2015-01-01      EUR    0.8237\n",
       "4     2015-01-01      GBP    0.6415\n",
       "...          ...      ...       ...\n",
       "11210 2021-02-20      USD    1.0000\n",
       "11211 2021-02-20      CAD    1.2610\n",
       "11212 2021-02-20      AUD    1.2723\n",
       "11213 2021-02-20      EUR    0.8238\n",
       "11214 2021-02-20      GBP    0.7126\n",
       "\n",
       "[11215 rows x 3 columns]"
      ]
     },
     "execution_count": 51,
     "metadata": {},
     "output_type": "execute_result"
    }
   ],
   "source": [
    "df_exchange_rates"
   ]
  },
  {
   "cell_type": "code",
   "execution_count": 53,
   "id": "efaea6c8-d9ab-45a4-b9f7-821668574f5a",
   "metadata": {},
   "outputs": [
    {
     "data": {
      "image/png": "[encoded data removed]",
      "text/plain": [
       "<Figure size 1000x600 with 1 Axes>"
      ]
     },
     "metadata": {},
     "output_type": "display_data"
    }
   ],
   "source": [
    "plt.figure(figsize=(10, 6))\n",
    "sns.histplot(df_exchange_rates['Exchange'], bins=20, kde=True)\n",
    "plt.title('Distribution of Exchange Rates')\n",
    "plt.xlabel('Exchange Rate')\n",
    "plt.ylabel('Frequency')\n",
    "plt.show()\n",
    "\n"
   ]
  },
  {
   "cell_type": "code",
   "execution_count": 150,
   "id": "cf2cc5df-237a-40f1-9382-8d6cb2a2987b",
   "metadata": {},
   "outputs": [],
   "source": [
    "df_exchange_rates.to_csv(\"Cleaned_exchange.csv\")"
   ]
  },
  {
   "cell_type": "raw",
   "id": "951020e5-f46f-4f07-9658-a062d33e89e7",
   "metadata": {},
   "source": []
  },
  {
   "cell_type": "code",
   "execution_count": null,
   "id": "f6a3163e-a5c6-45cf-a9ed-8aee696baeb9",
   "metadata": {},
   "outputs": [],
   "source": []
  },
  {
   "cell_type": "code",
   "execution_count": null,
   "id": "d0911dd9-878c-4d23-b914-0a1faae2ad41",
   "metadata": {},
   "outputs": [],
   "source": []
  },
  {
   "cell_type": "code",
   "execution_count": null,
   "id": "5d689aa2-cd61-4ab6-85a1-851eca207237",
   "metadata": {},
   "outputs": [],
   "source": []
  },
  {
   "cell_type": "code",
   "execution_count": null,
   "id": "123d7836-6458-4ec8-a05d-ac014e9d0b21",
   "metadata": {},
   "outputs": [],
   "source": []
  },
  {
   "cell_type": "code",
   "execution_count": null,
   "id": "570e7ab2-950f-4a28-b70e-a7bd5201da32",
   "metadata": {},
   "outputs": [],
   "source": []
  },
  {
   "cell_type": "code",
   "execution_count": null,
   "id": "9e43ed2e-3d8f-4e52-a2d4-264408e2c3a5",
   "metadata": {},
   "outputs": [],
   "source": []
  },
  {
   "cell_type": "code",
   "execution_count": null,
   "id": "b2b436f7-0ab2-42d3-b806-8d42154ccb05",
   "metadata": {},
   "outputs": [],
   "source": []
  },
  {
   "cell_type": "code",
   "execution_count": 62,
   "id": "b6033a33-c45d-43e2-b13e-e9ce37f31d66",
   "metadata": {},
   "outputs": [],
   "source": [
    "df_sales=pd.read_csv(\"Sales.csv\")\n"
   ]
  },
  {
   "cell_type": "code",
   "execution_count": 64,
   "id": "10561339-ceea-4ad3-a6b2-fb29f90a435c",
   "metadata": {},
   "outputs": [],
   "source": [
    "df_sales[\"Currency Code\"]=df_sales[\"Currency Code\"].astype(str)"
   ]
  },
  {
   "cell_type": "code",
   "execution_count": 66,
   "id": "fd908de4-9682-46e5-801e-dbfe8386c063",
   "metadata": {},
   "outputs": [],
   "source": [
    "df_sales[\"Order Date\"]=pd.to_datetime(df_sales[\"Order Date\"])\n",
    "df_sales[\"Delivery Date\"]=pd.to_datetime(df_sales[\"Order Date\"])"
   ]
  },
  {
   "cell_type": "code",
   "execution_count": 68,
   "id": "7a148481-bac4-447c-985b-19412f75dbc6",
   "metadata": {},
   "outputs": [
    {
     "data": {
      "text/plain": [
       "Order Number     0\n",
       "Line Item        0\n",
       "Order Date       0\n",
       "Delivery Date    0\n",
       "CustomerKey      0\n",
       "StoreKey         0\n",
       "ProductKey       0\n",
       "Quantity         0\n",
       "Currency Code    0\n",
       "dtype: int64"
      ]
     },
     "execution_count": 68,
     "metadata": {},
     "output_type": "execute_result"
    }
   ],
   "source": [
    "df_sales.isna().sum()"
   ]
  },
  {
   "cell_type": "code",
   "execution_count": 70,
   "id": "18b978ec-e8f9-4eb6-a884-1ad451c31930",
   "metadata": {},
   "outputs": [],
   "source": [
    "df_sales.dtypes\n",
    "df_sales.fillna(\"unknown\",inplace=True)"
   ]
  },
  {
   "cell_type": "code",
   "execution_count": null,
   "id": "313fa181-e5bc-4929-a6a0-27dce9e459eb",
   "metadata": {},
   "outputs": [],
   "source": []
  },
  {
   "cell_type": "code",
   "execution_count": 72,
   "id": "0e201714-ba49-44cb-b18a-47e2bfd44321",
   "metadata": {},
   "outputs": [
    {
     "data": {
      "text/html": [
       "<div>\n",
       "<style scoped>\n",
       "    .dataframe tbody tr th:only-of-type {\n",
       "        vertical-align: middle;\n",
       "    }\n",
       "\n",
       "    .dataframe tbody tr th {\n",
       "        vertical-align: top;\n",
       "    }\n",
       "\n",
       "    .dataframe thead th {\n",
       "        text-align: right;\n",
       "    }\n",
       "</style>\n",
       "<table border=\"1\" class=\"dataframe\">\n",
       "  <thead>\n",
       "    <tr style=\"text-align: right;\">\n",
       "      <th></th>\n",
       "      <th>Order Number</th>\n",
       "      <th>Line Item</th>\n",
       "      <th>Order Date</th>\n",
       "      <th>Delivery Date</th>\n",
       "      <th>CustomerKey</th>\n",
       "      <th>StoreKey</th>\n",
       "      <th>ProductKey</th>\n",
       "      <th>Quantity</th>\n",
       "      <th>Currency Code</th>\n",
       "    </tr>\n",
       "  </thead>\n",
       "  <tbody>\n",
       "    <tr>\n",
       "      <th>0</th>\n",
       "      <td>366000</td>\n",
       "      <td>1</td>\n",
       "      <td>2016-01-01</td>\n",
       "      <td>2016-01-01</td>\n",
       "      <td>265598</td>\n",
       "      <td>10</td>\n",
       "      <td>1304</td>\n",
       "      <td>1</td>\n",
       "      <td>CAD</td>\n",
       "    </tr>\n",
       "    <tr>\n",
       "      <th>1</th>\n",
       "      <td>366001</td>\n",
       "      <td>1</td>\n",
       "      <td>2016-01-01</td>\n",
       "      <td>2016-01-01</td>\n",
       "      <td>1269051</td>\n",
       "      <td>0</td>\n",
       "      <td>1048</td>\n",
       "      <td>2</td>\n",
       "      <td>USD</td>\n",
       "    </tr>\n",
       "    <tr>\n",
       "      <th>2</th>\n",
       "      <td>366001</td>\n",
       "      <td>2</td>\n",
       "      <td>2016-01-01</td>\n",
       "      <td>2016-01-01</td>\n",
       "      <td>1269051</td>\n",
       "      <td>0</td>\n",
       "      <td>2007</td>\n",
       "      <td>1</td>\n",
       "      <td>USD</td>\n",
       "    </tr>\n",
       "  </tbody>\n",
       "</table>\n",
       "</div>"
      ],
      "text/plain": [
       "   Order Number  Line Item Order Date Delivery Date  CustomerKey  StoreKey  \\\n",
       "0        366000          1 2016-01-01    2016-01-01       265598        10   \n",
       "1        366001          1 2016-01-01    2016-01-01      1269051         0   \n",
       "2        366001          2 2016-01-01    2016-01-01      1269051         0   \n",
       "\n",
       "   ProductKey  Quantity Currency Code  \n",
       "0        1304         1           CAD  \n",
       "1        1048         2           USD  \n",
       "2        2007         1           USD  "
      ]
     },
     "execution_count": 72,
     "metadata": {},
     "output_type": "execute_result"
    }
   ],
   "source": [
    "df_sales.isna().sum()\n",
    "df_sales.head(3)"
   ]
  },
  {
   "cell_type": "code",
   "execution_count": 74,
   "id": "41747885-3d69-463d-8e21-26b37cd42b76",
   "metadata": {},
   "outputs": [
    {
     "data": {
      "text/plain": [
       "Text(0, 0.5, 'Frequency')"
      ]
     },
     "execution_count": 74,
     "metadata": {},
     "output_type": "execute_result"
    },
    {
     "data": {
      "image/png": "[encoded data removed]",
      "text/plain": [
       "<Figure size 1400x1000 with 1 Axes>"
      ]
     },
     "metadata": {},
     "output_type": "display_data"
    }
   ],
   "source": [
    "plt.figure(figsize=(14, 10))  # Adjusted figure size to fit fewer plots\n",
    "\n",
    "# 1. Quantity Distribution\n",
    "plt.subplot(2, 2, 1)\n",
    "sns.histplot(df_sales['Quantity'].dropna(), bins=20, kde=True)\n",
    "plt.title('Quantity Distribution')\n",
    "plt.xlabel('Quantity')\n",
    "plt.ylabel('Frequency')"
   ]
  },
  {
   "cell_type": "code",
   "execution_count": 76,
   "id": "d4dea576-5c13-46dc-96bc-b877a04eb42d",
   "metadata": {},
   "outputs": [
    {
     "data": {
      "text/plain": [
       "Text(0, 0.5, 'Product')"
      ]
     },
     "execution_count": 76,
     "metadata": {},
     "output_type": "execute_result"
    },
    {
     "data": {
      "image/png": "[encoded data removed]",
      "text/plain": [
       "<Figure size 640x480 with 1 Axes>"
      ]
     },
     "metadata": {},
     "output_type": "display_data"
    }
   ],
   "source": [
    "# 2. Sales by Product (Top 10 Products)\n",
    "plt.subplot(2, 2, 2)\n",
    "plt.subplot(2, 2, 2)\n",
    "sns.countplot(y='ProductKey', data=df_sales, order=df_sales['ProductKey'].value_counts().index[:10])\n",
    "plt.title('Top 10 Products by Sales Count')\n",
    "plt.xlabel('Count')\n",
    "plt.ylabel('Product')\n"
   ]
  },
  {
   "cell_type": "code",
   "execution_count": 78,
   "id": "73df92f2-9bfb-4505-9b99-59ccfe5634b3",
   "metadata": {},
   "outputs": [
    {
     "data": {
      "text/plain": [
       "Text(0, 0.5, 'Store')"
      ]
     },
     "execution_count": 78,
     "metadata": {},
     "output_type": "execute_result"
    },
    {
     "data": {
      "image/png": "[encoded data removed]",
      "text/plain": [
       "<Figure size 640x480 with 1 Axes>"
      ]
     },
     "metadata": {},
     "output_type": "display_data"
    }
   ],
   "source": [
    "# 3. Sales by Store (Top 10 Stores)\n",
    "plt.subplot(2, 2, 3)\n",
    "\n",
    "sns.countplot(y='StoreKey', data=df_sales, order=df_sales['StoreKey'].value_counts().index[:10])\n",
    "plt.title('Top 10 Stores by Sales Count')\n",
    "plt.xlabel('Count')\n",
    "plt.ylabel('Store')"
   ]
  },
  {
   "cell_type": "code",
   "execution_count": 80,
   "id": "3d1f425e-e360-481b-8a64-4977147b596d",
   "metadata": {},
   "outputs": [
    {
     "data": {
      "text/plain": [
       "Text(0, 0.5, 'Sales Count')"
      ]
     },
     "execution_count": 80,
     "metadata": {},
     "output_type": "execute_result"
    },
    {
     "data": {
      "image/png": "[encoded data removed]",
      "text/plain": [
       "<Figure size 640x480 with 1 Axes>"
      ]
     },
     "metadata": {},
     "output_type": "display_data"
    }
   ],
   "source": [
    "# 4. Sales Over Time\n",
    "plt.subplot(2, 2, 4)\n",
    "\n",
    "df_sales['Order Date'].groupby(df_sales['Order Date'].dt.to_period('M')).count().plot()\n",
    "plt.title('Sales Count Over Time')\n",
    "plt.xlabel('Date')\n",
    "plt.ylabel('Sales Count')"
   ]
  },
  {
   "cell_type": "code",
   "execution_count": 173,
   "id": "b30e45cd-8b16-47ae-ac8f-fa559582f6df",
   "metadata": {},
   "outputs": [
    {
     "data": {
      "text/plain": [
       "orderNumber              int64\n",
       "lineItem                 int64\n",
       "orderDate       datetime64[ns]\n",
       "deliveryDate    datetime64[ns]\n",
       "CustomerKey              int64\n",
       "StoreKey                 int64\n",
       "ProductKey               int64\n",
       "Quantity                 int64\n",
       "currencyCode            object\n",
       "dtype: object"
      ]
     },
     "execution_count": 173,
     "metadata": {},
     "output_type": "execute_result"
    }
   ],
   "source": [
    "df_sales.dtypes"
   ]
  },
  {
   "cell_type": "code",
   "execution_count": 171,
   "id": "e1f41e01-8b32-4e68-b040-3215c35f7cdd",
   "metadata": {},
   "outputs": [
    {
     "name": "stdout",
     "output_type": "stream",
     "text": [
      "Index(['orderNumber', 'lineItem', 'orderDate', 'deliveryDate', 'CustomerKey',\n",
      "       'StoreKey', 'ProductKey', 'Quantity', 'currencyCode'],\n",
      "      dtype='object')\n"
     ]
    }
   ],
   "source": [
    "df_sales = df_sales.rename(columns={\n",
    "    'Order Number': 'orderNumber',\n",
    "    'Line Item': 'lineItem',\n",
    "    'Order Date': 'orderDate',\n",
    "    'Delivery Date': 'deliveryDate',\n",
    "    'Currency Code': 'currencyCode'\n",
    "})\n",
    "\n",
    "# Check the renamed columns\n",
    "print(df_sales.columns)\n"
   ]
  },
  {
   "cell_type": "code",
   "execution_count": 175,
   "id": "d31f3e0e-c048-4e66-befe-264ec72d8b48",
   "metadata": {},
   "outputs": [],
   "source": [
    "df_sales.to_csv(\"Cleaned_sales.csv\")"
   ]
  },
  {
   "cell_type": "code",
   "execution_count": 86,
   "id": "e6c91454-e490-457b-80f1-c1b4385777ac",
   "metadata": {},
   "outputs": [],
   "source": [
    "df_product=pd.read_csv(\"Products.csv\")"
   ]
  },
  {
   "cell_type": "code",
   "execution_count": 88,
   "id": "ada9a8ce-4cfe-458e-a68d-475879a4f503",
   "metadata": {},
   "outputs": [
    {
     "data": {
      "text/plain": [
       "ProductKey         int64\n",
       "Product Name      object\n",
       "Brand             object\n",
       "Color             object\n",
       "Unit Cost USD     object\n",
       "Unit Price USD    object\n",
       "SubcategoryKey     int64\n",
       "Subcategory       object\n",
       "CategoryKey        int64\n",
       "Category          object\n",
       "dtype: object"
      ]
     },
     "execution_count": 88,
     "metadata": {},
     "output_type": "execute_result"
    }
   ],
   "source": [
    "df_product.dtypes\n"
   ]
  },
  {
   "cell_type": "code",
   "execution_count": 90,
   "id": "779d06ce-0cc3-48a7-9e17-b243d0fd9b86",
   "metadata": {},
   "outputs": [],
   "source": [
    "df_product[\"Unit Cost USD\"]=df_product[\"Unit Cost USD\"].str.replace(\"$\",\"\",regex=False)\n",
    "\n"
   ]
  },
  {
   "cell_type": "code",
   "execution_count": 92,
   "id": "cb2bd5dc-93c6-4f71-90e7-1a105ad57ab7",
   "metadata": {},
   "outputs": [],
   "source": [
    "df_product[\"Unit Price USD\"]=df_product[\"Unit Price USD\"].str.replace(\"$\",\"\",regex=False)"
   ]
  },
  {
   "cell_type": "code",
   "execution_count": 94,
   "id": "40ed03c9-bc80-4dcb-b654-29b36e88ba5a",
   "metadata": {},
   "outputs": [],
   "source": [
    "df_product.dtypes\n",
    "df_product[\"Unit Cost USD\"]=df_product[\"Unit Cost USD\"].str.replace(\",\",\"\",regex=False)"
   ]
  },
  {
   "cell_type": "code",
   "execution_count": 96,
   "id": "d5750066-2573-4e1c-aa45-7dca1331d73a",
   "metadata": {},
   "outputs": [],
   "source": [
    "df_product[\"Unit Price USD\"]=df_product[\"Unit Price USD\"].str.replace(\",\",\"\")"
   ]
  },
  {
   "cell_type": "code",
   "execution_count": 98,
   "id": "87a04ffb-f975-495b-9b04-e9cf067609da",
   "metadata": {},
   "outputs": [],
   "source": [
    "df_product[\"Unit Cost USD\"]=df_product[\"Unit Cost USD\"].astype(float).astype(int)"
   ]
  },
  {
   "cell_type": "code",
   "execution_count": 100,
   "id": "170dec93-ea6e-4f98-bb75-1255df245d5b",
   "metadata": {},
   "outputs": [],
   "source": [
    "df_product[\"Unit Price USD\"]=df_product[\"Unit Price USD\"].astype(float)"
   ]
  },
  {
   "cell_type": "code",
   "execution_count": 102,
   "id": "624a82b5-0bb5-44bf-82b7-cb5e6d8d495f",
   "metadata": {},
   "outputs": [
    {
     "data": {
      "text/html": [
       "<div>\n",
       "<style scoped>\n",
       "    .dataframe tbody tr th:only-of-type {\n",
       "        vertical-align: middle;\n",
       "    }\n",
       "\n",
       "    .dataframe tbody tr th {\n",
       "        vertical-align: top;\n",
       "    }\n",
       "\n",
       "    .dataframe thead th {\n",
       "        text-align: right;\n",
       "    }\n",
       "</style>\n",
       "<table border=\"1\" class=\"dataframe\">\n",
       "  <thead>\n",
       "    <tr style=\"text-align: right;\">\n",
       "      <th></th>\n",
       "      <th>ProductKey</th>\n",
       "      <th>Product Name</th>\n",
       "      <th>Brand</th>\n",
       "      <th>Color</th>\n",
       "      <th>Unit Cost USD</th>\n",
       "      <th>Unit Price USD</th>\n",
       "      <th>SubcategoryKey</th>\n",
       "      <th>Subcategory</th>\n",
       "      <th>CategoryKey</th>\n",
       "      <th>Category</th>\n",
       "    </tr>\n",
       "  </thead>\n",
       "  <tbody>\n",
       "    <tr>\n",
       "      <th>0</th>\n",
       "      <td>1</td>\n",
       "      <td>Contoso 512MB MP3 Player E51 Silver</td>\n",
       "      <td>Contoso</td>\n",
       "      <td>Silver</td>\n",
       "      <td>6</td>\n",
       "      <td>12.99</td>\n",
       "      <td>101</td>\n",
       "      <td>MP4&amp;MP3</td>\n",
       "      <td>1</td>\n",
       "      <td>Audio</td>\n",
       "    </tr>\n",
       "    <tr>\n",
       "      <th>1</th>\n",
       "      <td>2</td>\n",
       "      <td>Contoso 512MB MP3 Player E51 Blue</td>\n",
       "      <td>Contoso</td>\n",
       "      <td>Blue</td>\n",
       "      <td>6</td>\n",
       "      <td>12.99</td>\n",
       "      <td>101</td>\n",
       "      <td>MP4&amp;MP3</td>\n",
       "      <td>1</td>\n",
       "      <td>Audio</td>\n",
       "    </tr>\n",
       "    <tr>\n",
       "      <th>2</th>\n",
       "      <td>3</td>\n",
       "      <td>Contoso 1G MP3 Player E100 White</td>\n",
       "      <td>Contoso</td>\n",
       "      <td>White</td>\n",
       "      <td>7</td>\n",
       "      <td>14.52</td>\n",
       "      <td>101</td>\n",
       "      <td>MP4&amp;MP3</td>\n",
       "      <td>1</td>\n",
       "      <td>Audio</td>\n",
       "    </tr>\n",
       "    <tr>\n",
       "      <th>3</th>\n",
       "      <td>4</td>\n",
       "      <td>Contoso 2G MP3 Player E200 Silver</td>\n",
       "      <td>Contoso</td>\n",
       "      <td>Silver</td>\n",
       "      <td>11</td>\n",
       "      <td>21.57</td>\n",
       "      <td>101</td>\n",
       "      <td>MP4&amp;MP3</td>\n",
       "      <td>1</td>\n",
       "      <td>Audio</td>\n",
       "    </tr>\n",
       "    <tr>\n",
       "      <th>4</th>\n",
       "      <td>5</td>\n",
       "      <td>Contoso 2G MP3 Player E200 Red</td>\n",
       "      <td>Contoso</td>\n",
       "      <td>Red</td>\n",
       "      <td>11</td>\n",
       "      <td>21.57</td>\n",
       "      <td>101</td>\n",
       "      <td>MP4&amp;MP3</td>\n",
       "      <td>1</td>\n",
       "      <td>Audio</td>\n",
       "    </tr>\n",
       "    <tr>\n",
       "      <th>...</th>\n",
       "      <td>...</td>\n",
       "      <td>...</td>\n",
       "      <td>...</td>\n",
       "      <td>...</td>\n",
       "      <td>...</td>\n",
       "      <td>...</td>\n",
       "      <td>...</td>\n",
       "      <td>...</td>\n",
       "      <td>...</td>\n",
       "      <td>...</td>\n",
       "    </tr>\n",
       "    <tr>\n",
       "      <th>2512</th>\n",
       "      <td>2513</td>\n",
       "      <td>Contoso Bluetooth Active Headphones L15 Red</td>\n",
       "      <td>Contoso</td>\n",
       "      <td>Red</td>\n",
       "      <td>43</td>\n",
       "      <td>129.99</td>\n",
       "      <td>505</td>\n",
       "      <td>Cell phones Accessories</td>\n",
       "      <td>5</td>\n",
       "      <td>Cell phones</td>\n",
       "    </tr>\n",
       "    <tr>\n",
       "      <th>2513</th>\n",
       "      <td>2514</td>\n",
       "      <td>Contoso Bluetooth Active Headphones L15 White</td>\n",
       "      <td>Contoso</td>\n",
       "      <td>White</td>\n",
       "      <td>43</td>\n",
       "      <td>129.99</td>\n",
       "      <td>505</td>\n",
       "      <td>Cell phones Accessories</td>\n",
       "      <td>5</td>\n",
       "      <td>Cell phones</td>\n",
       "    </tr>\n",
       "    <tr>\n",
       "      <th>2514</th>\n",
       "      <td>2515</td>\n",
       "      <td>Contoso In-Line Coupler E180 White</td>\n",
       "      <td>Contoso</td>\n",
       "      <td>White</td>\n",
       "      <td>1</td>\n",
       "      <td>3.35</td>\n",
       "      <td>505</td>\n",
       "      <td>Cell phones Accessories</td>\n",
       "      <td>5</td>\n",
       "      <td>Cell phones</td>\n",
       "    </tr>\n",
       "    <tr>\n",
       "      <th>2515</th>\n",
       "      <td>2516</td>\n",
       "      <td>Contoso In-Line Coupler E180 Black</td>\n",
       "      <td>Contoso</td>\n",
       "      <td>Black</td>\n",
       "      <td>1</td>\n",
       "      <td>3.35</td>\n",
       "      <td>505</td>\n",
       "      <td>Cell phones Accessories</td>\n",
       "      <td>5</td>\n",
       "      <td>Cell phones</td>\n",
       "    </tr>\n",
       "    <tr>\n",
       "      <th>2516</th>\n",
       "      <td>2517</td>\n",
       "      <td>Contoso In-Line Coupler E180 Silver</td>\n",
       "      <td>Contoso</td>\n",
       "      <td>Silver</td>\n",
       "      <td>1</td>\n",
       "      <td>3.35</td>\n",
       "      <td>505</td>\n",
       "      <td>Cell phones Accessories</td>\n",
       "      <td>5</td>\n",
       "      <td>Cell phones</td>\n",
       "    </tr>\n",
       "  </tbody>\n",
       "</table>\n",
       "<p>2517 rows × 10 columns</p>\n",
       "</div>"
      ],
      "text/plain": [
       "      ProductKey                                   Product Name    Brand  \\\n",
       "0              1            Contoso 512MB MP3 Player E51 Silver  Contoso   \n",
       "1              2              Contoso 512MB MP3 Player E51 Blue  Contoso   \n",
       "2              3               Contoso 1G MP3 Player E100 White  Contoso   \n",
       "3              4              Contoso 2G MP3 Player E200 Silver  Contoso   \n",
       "4              5                 Contoso 2G MP3 Player E200 Red  Contoso   \n",
       "...          ...                                            ...      ...   \n",
       "2512        2513    Contoso Bluetooth Active Headphones L15 Red  Contoso   \n",
       "2513        2514  Contoso Bluetooth Active Headphones L15 White  Contoso   \n",
       "2514        2515             Contoso In-Line Coupler E180 White  Contoso   \n",
       "2515        2516             Contoso In-Line Coupler E180 Black  Contoso   \n",
       "2516        2517            Contoso In-Line Coupler E180 Silver  Contoso   \n",
       "\n",
       "       Color  Unit Cost USD  Unit Price USD  SubcategoryKey  \\\n",
       "0     Silver              6           12.99             101   \n",
       "1       Blue              6           12.99             101   \n",
       "2      White              7           14.52             101   \n",
       "3     Silver             11           21.57             101   \n",
       "4        Red             11           21.57             101   \n",
       "...      ...            ...             ...             ...   \n",
       "2512     Red             43          129.99             505   \n",
       "2513   White             43          129.99             505   \n",
       "2514   White              1            3.35             505   \n",
       "2515   Black              1            3.35             505   \n",
       "2516  Silver              1            3.35             505   \n",
       "\n",
       "                  Subcategory  CategoryKey     Category  \n",
       "0                     MP4&MP3            1        Audio  \n",
       "1                     MP4&MP3            1        Audio  \n",
       "2                     MP4&MP3            1        Audio  \n",
       "3                     MP4&MP3            1        Audio  \n",
       "4                     MP4&MP3            1        Audio  \n",
       "...                       ...          ...          ...  \n",
       "2512  Cell phones Accessories            5  Cell phones  \n",
       "2513  Cell phones Accessories            5  Cell phones  \n",
       "2514  Cell phones Accessories            5  Cell phones  \n",
       "2515  Cell phones Accessories            5  Cell phones  \n",
       "2516  Cell phones Accessories            5  Cell phones  \n",
       "\n",
       "[2517 rows x 10 columns]"
      ]
     },
     "execution_count": 102,
     "metadata": {},
     "output_type": "execute_result"
    }
   ],
   "source": [
    "df_product"
   ]
  },
  {
   "cell_type": "code",
   "execution_count": 104,
   "id": "eeef00fb-579c-4a44-9cf2-45125372c4f2",
   "metadata": {},
   "outputs": [
    {
     "data": {
      "text/plain": [
       "0"
      ]
     },
     "execution_count": 104,
     "metadata": {},
     "output_type": "execute_result"
    }
   ],
   "source": [
    "df_product.duplicated().sum()"
   ]
  },
  {
   "cell_type": "code",
   "execution_count": 106,
   "id": "fd28a369-4763-49a1-95e2-54fe33d733c0",
   "metadata": {},
   "outputs": [
    {
     "data": {
      "text/plain": [
       "Text(0, 0.5, 'Frequency')"
      ]
     },
     "execution_count": 106,
     "metadata": {},
     "output_type": "execute_result"
    },
    {
     "data": {
      "image/png": "[encoded data removed]",
      "text/plain": [
       "<Figure size 640x480 with 1 Axes>"
      ]
     },
     "metadata": {},
     "output_type": "display_data"
    }
   ],
   "source": [
    "# 1. Distribution of Unit Cost USD\n",
    "plt.subplot(2, 2, 1)\n",
    "sns.histplot(df_product['Unit Cost USD'].dropna(), bins=20, kde=True)\n",
    "plt.title('Distribution of Unit Cost USD')\n",
    "plt.xlabel('Unit Cost USD')\n",
    "plt.ylabel('Frequency')"
   ]
  },
  {
   "cell_type": "code",
   "execution_count": 108,
   "id": "f52f092f-4315-4261-b298-7a53fbfebe19",
   "metadata": {},
   "outputs": [
    {
     "data": {
      "text/plain": [
       "Text(0, 0.5, 'Frequency')"
      ]
     },
     "execution_count": 108,
     "metadata": {},
     "output_type": "execute_result"
    },
    {
     "data": {
      "image/png": "[encoded data removed]",
      "text/plain": [
       "<Figure size 640x480 with 1 Axes>"
      ]
     },
     "metadata": {},
     "output_type": "display_data"
    }
   ],
   "source": [
    "# 2. Distribution of Unit Price USD\n",
    "plt.subplot(2, 2, 2)\n",
    "sns.histplot(df_product['Unit Price USD'].dropna(), bins=20, kde=True)\n",
    "plt.title('Distribution of Unit Price USD')\n",
    "plt.xlabel('Unit Price USD')\n",
    "plt.ylabel('Frequency')"
   ]
  },
  {
   "cell_type": "code",
   "execution_count": 110,
   "id": "77d9b508-4127-4ed0-8915-266591a35ecd",
   "metadata": {},
   "outputs": [
    {
     "data": {
      "text/plain": [
       "Text(0, 0.5, 'Brand')"
      ]
     },
     "execution_count": 110,
     "metadata": {},
     "output_type": "execute_result"
    },
    {
     "data": {
      "image/png": "[encoded data removed]",
      "text/plain": [
       "<Figure size 640x480 with 1 Axes>"
      ]
     },
     "metadata": {},
     "output_type": "display_data"
    }
   ],
   "source": [
    "# 3. Top 10 Brands\n",
    "plt.subplot(2, 2, 3)\n",
    "sns.countplot(y='Brand', data=df_product, order=df_product['Brand'].value_counts().index[:10])\n",
    "plt.title('Top 10 Brands by Product Count')\n",
    "plt.xlabel('Count')\n",
    "plt.ylabel('Brand')"
   ]
  },
  {
   "cell_type": "code",
   "execution_count": 112,
   "id": "213a618f-b592-46e2-8eb9-3c5b87d1b6ca",
   "metadata": {},
   "outputs": [
    {
     "data": {
      "text/plain": [
       "Text(0, 0.5, 'Category')"
      ]
     },
     "execution_count": 112,
     "metadata": {},
     "output_type": "execute_result"
    },
    {
     "data": {
      "image/png": "[encoded data removed]",
      "text/plain": [
       "<Figure size 640x480 with 1 Axes>"
      ]
     },
     "metadata": {},
     "output_type": "display_data"
    }
   ],
   "source": [
    "# 4. Top 10 Categories  \n",
    "plt.subplot(2, 2, 4)\n",
    "sns.countplot(y='Category', data=df_product, order=df_product['Category'].value_counts().index[:10])\n",
    "plt.title('Top 10 Categories')\n",
    "plt.xlabel('Count')\n",
    "plt.ylabel('Category')\n"
   ]
  },
  {
   "cell_type": "code",
   "execution_count": 177,
   "id": "14d6b938-37f4-4dea-88e2-e8bbd2bab42d",
   "metadata": {},
   "outputs": [
    {
     "name": "stdout",
     "output_type": "stream",
     "text": [
      "Index(['ProductKey', 'productName', 'Brand', 'Color', 'unitCostUSD',\n",
      "       'unitPriceUSD', 'SubcategoryKey', 'Subcategory', 'CategoryKey',\n",
      "       'Category'],\n",
      "      dtype='object')\n"
     ]
    }
   ],
   "source": [
    "df_product = df_product.rename(columns={\n",
    "    'Product Name': 'productName',\n",
    "    'Unit Cost USD': 'unitCostUSD',\n",
    "    'Unit Price USD': 'unitPriceUSD',\n",
    "    \n",
    "})\n",
    "\n",
    "# Check the renamed columns\n",
    "print(df_product.columns)\n"
   ]
  },
  {
   "cell_type": "code",
   "execution_count": 179,
   "id": "cab92880-254d-4c0e-82d6-412edd5b0a79",
   "metadata": {},
   "outputs": [],
   "source": [
    "df_product.to_csv(\"Cleaned_product.csv\")"
   ]
  },
  {
   "cell_type": "code",
   "execution_count": 116,
   "id": "d1f69b82-45b7-4acc-bf31-7f5f5c374662",
   "metadata": {},
   "outputs": [],
   "source": [
    "df_customer=pd.read_csv(\"Customers.csv\",encoding='ISO-8859-1')"
   ]
  },
  {
   "cell_type": "code",
   "execution_count": 118,
   "id": "fe3a5bf5-2f6e-482b-97ee-04e9bf8bdc36",
   "metadata": {},
   "outputs": [
    {
     "name": "stdout",
     "output_type": "stream",
     "text": [
      "<class 'pandas.core.frame.DataFrame'>\n",
      "RangeIndex: 15266 entries, 0 to 15265\n",
      "Data columns (total 10 columns):\n",
      " #   Column       Non-Null Count  Dtype \n",
      "---  ------       --------------  ----- \n",
      " 0   CustomerKey  15266 non-null  int64 \n",
      " 1   Gender       15266 non-null  object\n",
      " 2   Name         15266 non-null  object\n",
      " 3   City         15266 non-null  object\n",
      " 4   State Code   15256 non-null  object\n",
      " 5   State        15266 non-null  object\n",
      " 6   Zip Code     15266 non-null  object\n",
      " 7   Country      15266 non-null  object\n",
      " 8   Continent    15266 non-null  object\n",
      " 9   Birthday     15266 non-null  object\n",
      "dtypes: int64(1), object(9)\n",
      "memory usage: 1.2+ MB\n"
     ]
    }
   ],
   "source": [
    "df_customer.info()"
   ]
  },
  {
   "cell_type": "code",
   "execution_count": 120,
   "id": "0d96ce37-941d-455a-8486-2dc0e17a9297",
   "metadata": {},
   "outputs": [
    {
     "data": {
      "text/plain": [
       "CustomerKey     int64\n",
       "Gender         object\n",
       "Name           object\n",
       "City           object\n",
       "State Code     object\n",
       "State          object\n",
       "Zip Code       object\n",
       "Country        object\n",
       "Continent      object\n",
       "Birthday       object\n",
       "dtype: object"
      ]
     },
     "execution_count": 120,
     "metadata": {},
     "output_type": "execute_result"
    }
   ],
   "source": [
    "df_customer.dtypes"
   ]
  },
  {
   "cell_type": "code",
   "execution_count": 122,
   "id": "6e19c0b9-793e-4d26-b353-ada74c770279",
   "metadata": {},
   "outputs": [
    {
     "data": {
      "text/plain": [
       "CustomerKey     0\n",
       "Gender          0\n",
       "Name            0\n",
       "City            0\n",
       "State Code     10\n",
       "State           0\n",
       "Zip Code        0\n",
       "Country         0\n",
       "Continent       0\n",
       "Birthday        0\n",
       "dtype: int64"
      ]
     },
     "execution_count": 122,
     "metadata": {},
     "output_type": "execute_result"
    }
   ],
   "source": [
    "df_customer.isna().sum()"
   ]
  },
  {
   "cell_type": "code",
   "execution_count": 124,
   "id": "094369c1-021c-4413-8745-ac7fe208d4db",
   "metadata": {},
   "outputs": [],
   "source": [
    "df_customer[\"State Code\"]=df_customer[\"State Code\"].fillna(\"Not available\")"
   ]
  },
  {
   "cell_type": "code",
   "execution_count": 126,
   "id": "88de3d19-5baf-4221-9b03-33a23dec5a4c",
   "metadata": {},
   "outputs": [],
   "source": [
    "df_customer[\"Birthday\"]=pd.to_datetime(df_customer[\"Birthday\"])"
   ]
  },
  {
   "cell_type": "code",
   "execution_count": 128,
   "id": "8e023f66-4c4e-455c-a1c6-7a484dd2e780",
   "metadata": {},
   "outputs": [],
   "source": [
    "df_customer['Age'] = df_customer['Birthday'].apply(get_age)"
   ]
  },
  {
   "cell_type": "code",
   "execution_count": 130,
   "id": "349ee1cf-fe14-47a2-864b-20c140285cef",
   "metadata": {},
   "outputs": [],
   "source": [
    "df_customer.rename(columns={\n",
    "    'City'      : 'Cust_City',\n",
    "    'StateCode' : 'Cust_StateCode',\n",
    "    'State'     : 'Cust_State',\n",
    "    'ZipCode'   : 'Cust_ZipCode',\n",
    "    'Country'   : 'Cust_Country',\n",
    "    'Continent' : 'Cust_Continent'\n",
    "}, inplace=True)"
   ]
  },
  {
   "cell_type": "code",
   "execution_count": null,
   "id": "6fad81f4-ca59-4fda-a4da-268e5b4f7960",
   "metadata": {},
   "outputs": [],
   "source": []
  },
  {
   "cell_type": "code",
   "execution_count": 133,
   "id": "0256b138-e3d7-4719-91ae-131cbe0271e6",
   "metadata": {},
   "outputs": [
    {
     "data": {
      "text/html": [
       "<div>\n",
       "<style scoped>\n",
       "    .dataframe tbody tr th:only-of-type {\n",
       "        vertical-align: middle;\n",
       "    }\n",
       "\n",
       "    .dataframe tbody tr th {\n",
       "        vertical-align: top;\n",
       "    }\n",
       "\n",
       "    .dataframe thead th {\n",
       "        text-align: right;\n",
       "    }\n",
       "</style>\n",
       "<table border=\"1\" class=\"dataframe\">\n",
       "  <thead>\n",
       "    <tr style=\"text-align: right;\">\n",
       "      <th></th>\n",
       "      <th>CustomerKey</th>\n",
       "      <th>Gender</th>\n",
       "      <th>Name</th>\n",
       "      <th>Cust_City</th>\n",
       "      <th>State Code</th>\n",
       "      <th>Cust_State</th>\n",
       "      <th>Zip Code</th>\n",
       "      <th>Cust_Country</th>\n",
       "      <th>Cust_Continent</th>\n",
       "      <th>Birthday</th>\n",
       "      <th>Age</th>\n",
       "    </tr>\n",
       "  </thead>\n",
       "  <tbody>\n",
       "    <tr>\n",
       "      <th>0</th>\n",
       "      <td>301</td>\n",
       "      <td>Female</td>\n",
       "      <td>Lilly Harding</td>\n",
       "      <td>WANDEARAH EAST</td>\n",
       "      <td>SA</td>\n",
       "      <td>South Australia</td>\n",
       "      <td>5523</td>\n",
       "      <td>Australia</td>\n",
       "      <td>Australia</td>\n",
       "      <td>1939-07-03</td>\n",
       "      <td>85</td>\n",
       "    </tr>\n",
       "    <tr>\n",
       "      <th>1</th>\n",
       "      <td>325</td>\n",
       "      <td>Female</td>\n",
       "      <td>Madison Hull</td>\n",
       "      <td>MOUNT BUDD</td>\n",
       "      <td>WA</td>\n",
       "      <td>Western Australia</td>\n",
       "      <td>6522</td>\n",
       "      <td>Australia</td>\n",
       "      <td>Australia</td>\n",
       "      <td>1979-09-27</td>\n",
       "      <td>45</td>\n",
       "    </tr>\n",
       "    <tr>\n",
       "      <th>2</th>\n",
       "      <td>554</td>\n",
       "      <td>Female</td>\n",
       "      <td>Claire Ferres</td>\n",
       "      <td>WINJALLOK</td>\n",
       "      <td>VIC</td>\n",
       "      <td>Victoria</td>\n",
       "      <td>3380</td>\n",
       "      <td>Australia</td>\n",
       "      <td>Australia</td>\n",
       "      <td>1947-05-26</td>\n",
       "      <td>77</td>\n",
       "    </tr>\n",
       "    <tr>\n",
       "      <th>3</th>\n",
       "      <td>786</td>\n",
       "      <td>Male</td>\n",
       "      <td>Jai Poltpalingada</td>\n",
       "      <td>MIDDLE RIVER</td>\n",
       "      <td>SA</td>\n",
       "      <td>South Australia</td>\n",
       "      <td>5223</td>\n",
       "      <td>Australia</td>\n",
       "      <td>Australia</td>\n",
       "      <td>1957-09-17</td>\n",
       "      <td>67</td>\n",
       "    </tr>\n",
       "    <tr>\n",
       "      <th>4</th>\n",
       "      <td>1042</td>\n",
       "      <td>Male</td>\n",
       "      <td>Aidan Pankhurst</td>\n",
       "      <td>TAWONGA SOUTH</td>\n",
       "      <td>VIC</td>\n",
       "      <td>Victoria</td>\n",
       "      <td>3698</td>\n",
       "      <td>Australia</td>\n",
       "      <td>Australia</td>\n",
       "      <td>1965-11-19</td>\n",
       "      <td>59</td>\n",
       "    </tr>\n",
       "    <tr>\n",
       "      <th>...</th>\n",
       "      <td>...</td>\n",
       "      <td>...</td>\n",
       "      <td>...</td>\n",
       "      <td>...</td>\n",
       "      <td>...</td>\n",
       "      <td>...</td>\n",
       "      <td>...</td>\n",
       "      <td>...</td>\n",
       "      <td>...</td>\n",
       "      <td>...</td>\n",
       "      <td>...</td>\n",
       "    </tr>\n",
       "    <tr>\n",
       "      <th>15261</th>\n",
       "      <td>2099600</td>\n",
       "      <td>Female</td>\n",
       "      <td>Denisa Duková</td>\n",
       "      <td>Houston</td>\n",
       "      <td>TX</td>\n",
       "      <td>Texas</td>\n",
       "      <td>77017</td>\n",
       "      <td>United States</td>\n",
       "      <td>North America</td>\n",
       "      <td>1936-03-25</td>\n",
       "      <td>88</td>\n",
       "    </tr>\n",
       "    <tr>\n",
       "      <th>15262</th>\n",
       "      <td>2099618</td>\n",
       "      <td>Male</td>\n",
       "      <td>Justin Solórzano</td>\n",
       "      <td>Mclean</td>\n",
       "      <td>VA</td>\n",
       "      <td>Virginia</td>\n",
       "      <td>22101</td>\n",
       "      <td>United States</td>\n",
       "      <td>North America</td>\n",
       "      <td>1992-02-16</td>\n",
       "      <td>32</td>\n",
       "    </tr>\n",
       "    <tr>\n",
       "      <th>15263</th>\n",
       "      <td>2099758</td>\n",
       "      <td>Male</td>\n",
       "      <td>Svend Petrussen</td>\n",
       "      <td>Wilmington</td>\n",
       "      <td>NC</td>\n",
       "      <td>North Carolina</td>\n",
       "      <td>28405</td>\n",
       "      <td>United States</td>\n",
       "      <td>North America</td>\n",
       "      <td>1937-11-09</td>\n",
       "      <td>87</td>\n",
       "    </tr>\n",
       "    <tr>\n",
       "      <th>15264</th>\n",
       "      <td>2099862</td>\n",
       "      <td>Female</td>\n",
       "      <td>Lorenza Rush</td>\n",
       "      <td>Riverside</td>\n",
       "      <td>CA</td>\n",
       "      <td>California</td>\n",
       "      <td>92501</td>\n",
       "      <td>United States</td>\n",
       "      <td>North America</td>\n",
       "      <td>1937-10-12</td>\n",
       "      <td>87</td>\n",
       "    </tr>\n",
       "    <tr>\n",
       "      <th>15265</th>\n",
       "      <td>2099937</td>\n",
       "      <td>Male</td>\n",
       "      <td>Zygmunt Kaminski</td>\n",
       "      <td>Bloomfield Township</td>\n",
       "      <td>MI</td>\n",
       "      <td>Michigan</td>\n",
       "      <td>48302</td>\n",
       "      <td>United States</td>\n",
       "      <td>North America</td>\n",
       "      <td>1965-08-18</td>\n",
       "      <td>59</td>\n",
       "    </tr>\n",
       "  </tbody>\n",
       "</table>\n",
       "<p>15266 rows × 11 columns</p>\n",
       "</div>"
      ],
      "text/plain": [
       "       CustomerKey  Gender               Name            Cust_City State Code  \\\n",
       "0              301  Female      Lilly Harding       WANDEARAH EAST         SA   \n",
       "1              325  Female       Madison Hull           MOUNT BUDD         WA   \n",
       "2              554  Female      Claire Ferres            WINJALLOK        VIC   \n",
       "3              786    Male  Jai Poltpalingada         MIDDLE RIVER         SA   \n",
       "4             1042    Male    Aidan Pankhurst        TAWONGA SOUTH        VIC   \n",
       "...            ...     ...                ...                  ...        ...   \n",
       "15261      2099600  Female     Denisa Duková              Houston         TX   \n",
       "15262      2099618    Male   Justin Solórzano               Mclean         VA   \n",
       "15263      2099758    Male    Svend Petrussen           Wilmington         NC   \n",
       "15264      2099862  Female       Lorenza Rush            Riverside         CA   \n",
       "15265      2099937    Male   Zygmunt Kaminski  Bloomfield Township         MI   \n",
       "\n",
       "              Cust_State Zip Code   Cust_Country Cust_Continent   Birthday  \\\n",
       "0        South Australia     5523      Australia      Australia 1939-07-03   \n",
       "1      Western Australia     6522      Australia      Australia 1979-09-27   \n",
       "2               Victoria     3380      Australia      Australia 1947-05-26   \n",
       "3        South Australia     5223      Australia      Australia 1957-09-17   \n",
       "4               Victoria     3698      Australia      Australia 1965-11-19   \n",
       "...                  ...      ...            ...            ...        ...   \n",
       "15261              Texas    77017  United States  North America 1936-03-25   \n",
       "15262           Virginia    22101  United States  North America 1992-02-16   \n",
       "15263     North Carolina    28405  United States  North America 1937-11-09   \n",
       "15264         California    92501  United States  North America 1937-10-12   \n",
       "15265           Michigan    48302  United States  North America 1965-08-18   \n",
       "\n",
       "       Age  \n",
       "0       85  \n",
       "1       45  \n",
       "2       77  \n",
       "3       67  \n",
       "4       59  \n",
       "...    ...  \n",
       "15261   88  \n",
       "15262   32  \n",
       "15263   87  \n",
       "15264   87  \n",
       "15265   59  \n",
       "\n",
       "[15266 rows x 11 columns]"
      ]
     },
     "execution_count": 133,
     "metadata": {},
     "output_type": "execute_result"
    }
   ],
   "source": [
    "df_customer"
   ]
  },
  {
   "cell_type": "code",
   "execution_count": 135,
   "id": "7fd82216-f7a6-45e6-a47c-05316e9e64dd",
   "metadata": {},
   "outputs": [
    {
     "data": {
      "text/plain": [
       "Text(0, 0.5, 'Count')"
      ]
     },
     "execution_count": 135,
     "metadata": {},
     "output_type": "execute_result"
    },
    {
     "data": {
      "image/png": "[encoded data removed]",
      "text/plain": [
       "<Figure size 640x480 with 1 Axes>"
      ]
     },
     "metadata": {},
     "output_type": "display_data"
    }
   ],
   "source": [
    "# 1. Gender Distribution\n",
    "plt.subplot(2, 2, 1)\n",
    "sns.countplot(x='Gender', data=df_customer)\n",
    "plt.title('Customer Gender Distribution')\n",
    "plt.xlabel('Gender')\n",
    "plt.ylabel('Count')"
   ]
  },
  {
   "cell_type": "code",
   "execution_count": 137,
   "id": "b6cff118-3dd7-46e4-9f65-9b42e7e42f1b",
   "metadata": {},
   "outputs": [
    {
     "data": {
      "text/plain": [
       "Text(0, 0.5, 'City')"
      ]
     },
     "execution_count": 137,
     "metadata": {},
     "output_type": "execute_result"
    },
    {
     "data": {
      "image/png": "[encoded data removed]",
      "text/plain": [
       "<Figure size 640x480 with 1 Axes>"
      ]
     },
     "metadata": {},
     "output_type": "display_data"
    }
   ],
   "source": [
    "# 2. Top 10 Cities (City Distribution)\n",
    "plt.subplot(2, 2, 2)\n",
    "sns.countplot(y='Cust_City', data=df_customer, order=df_customer['Cust_City'].value_counts().index[:10])\n",
    "plt.title('Top 10 Cities by Customer Count')\n",
    "plt.xlabel('Count')\n",
    "plt.ylabel('City')\n"
   ]
  },
  {
   "cell_type": "code",
   "execution_count": 139,
   "id": "74a358d6-1c46-40e1-9a91-dc109760e21a",
   "metadata": {},
   "outputs": [
    {
     "data": {
      "image/png": "[encoded data removed]",
      "text/plain": [
       "<Figure size 800x600 with 1 Axes>"
      ]
     },
     "metadata": {},
     "output_type": "display_data"
    }
   ],
   "source": [
    "plt.figure(figsize=(8, 6))\n",
    "sns.boxplot(x='Gender', y='Age', data=df_customer)\n",
    "plt.title('Age Distribution by Gender')\n",
    "plt.xlabel('Gender')\n",
    "plt.ylabel('Age')\n",
    "plt.show()"
   ]
  },
  {
   "cell_type": "code",
   "execution_count": 141,
   "id": "9f3330ad-9002-48c5-acef-1e6139f0e0c9",
   "metadata": {},
   "outputs": [
    {
     "data": {
      "image/png": "[encoded data removed]",
      "text/plain": [
       "<Figure size 1200x800 with 1 Axes>"
      ]
     },
     "metadata": {},
     "output_type": "display_data"
    }
   ],
   "source": [
    "# 6. Age by State (Top 10 States by Customer Count)\n",
    "plt.figure(figsize=(12, 8))\n",
    "sns.boxplot(y='Cust_State', x='Age', data=df_customer, order=df_customer['Cust_State'].value_counts().index[:10])\n",
    "plt.title('Age Distribution by State')\n",
    "plt.xlabel('Age')\n",
    "plt.ylabel('State')\n",
    "plt.show()"
   ]
  },
  {
   "cell_type": "code",
   "execution_count": 145,
   "id": "333becab-9e58-43fc-8e56-797164fb362f",
   "metadata": {},
   "outputs": [],
   "source": [
    "df_customer.to_csv(\"Cleaned_customer.csv\")"
   ]
  },
  {
   "cell_type": "code",
   "execution_count": 143,
   "id": "4b0cd4be-b5af-4b13-ad79-6c91aa47a1b8",
   "metadata": {},
   "outputs": [
    {
     "data": {
      "text/html": [
       "<div>\n",
       "<style scoped>\n",
       "    .dataframe tbody tr th:only-of-type {\n",
       "        vertical-align: middle;\n",
       "    }\n",
       "\n",
       "    .dataframe tbody tr th {\n",
       "        vertical-align: top;\n",
       "    }\n",
       "\n",
       "    .dataframe thead th {\n",
       "        text-align: right;\n",
       "    }\n",
       "</style>\n",
       "<table border=\"1\" class=\"dataframe\">\n",
       "  <thead>\n",
       "    <tr style=\"text-align: right;\">\n",
       "      <th></th>\n",
       "      <th>CustomerKey</th>\n",
       "      <th>Gender</th>\n",
       "      <th>Name</th>\n",
       "      <th>Cust_City</th>\n",
       "      <th>State Code</th>\n",
       "      <th>Cust_State</th>\n",
       "      <th>Zip Code</th>\n",
       "      <th>Cust_Country</th>\n",
       "      <th>Cust_Continent</th>\n",
       "      <th>Birthday</th>\n",
       "      <th>Age</th>\n",
       "    </tr>\n",
       "  </thead>\n",
       "  <tbody>\n",
       "    <tr>\n",
       "      <th>0</th>\n",
       "      <td>301</td>\n",
       "      <td>Female</td>\n",
       "      <td>Lilly Harding</td>\n",
       "      <td>WANDEARAH EAST</td>\n",
       "      <td>SA</td>\n",
       "      <td>South Australia</td>\n",
       "      <td>5523</td>\n",
       "      <td>Australia</td>\n",
       "      <td>Australia</td>\n",
       "      <td>1939-07-03</td>\n",
       "      <td>85</td>\n",
       "    </tr>\n",
       "    <tr>\n",
       "      <th>1</th>\n",
       "      <td>325</td>\n",
       "      <td>Female</td>\n",
       "      <td>Madison Hull</td>\n",
       "      <td>MOUNT BUDD</td>\n",
       "      <td>WA</td>\n",
       "      <td>Western Australia</td>\n",
       "      <td>6522</td>\n",
       "      <td>Australia</td>\n",
       "      <td>Australia</td>\n",
       "      <td>1979-09-27</td>\n",
       "      <td>45</td>\n",
       "    </tr>\n",
       "  </tbody>\n",
       "</table>\n",
       "</div>"
      ],
      "text/plain": [
       "   CustomerKey  Gender           Name       Cust_City State Code  \\\n",
       "0          301  Female  Lilly Harding  WANDEARAH EAST         SA   \n",
       "1          325  Female   Madison Hull      MOUNT BUDD         WA   \n",
       "\n",
       "          Cust_State Zip Code Cust_Country Cust_Continent   Birthday  Age  \n",
       "0    South Australia     5523    Australia      Australia 1939-07-03   85  \n",
       "1  Western Australia     6522    Australia      Australia 1979-09-27   45  "
      ]
     },
     "execution_count": 143,
     "metadata": {},
     "output_type": "execute_result"
    }
   ],
   "source": [
    "df_customer.head(2)\n"
   ]
  },
  {
   "cell_type": "code",
   "execution_count": 87,
   "id": "d4d3a3f3-430c-44a5-ad2a-4d9d08ee8b35",
   "metadata": {},
   "outputs": [
    {
     "data": {
      "text/html": [
       "<div>\n",
       "<style scoped>\n",
       "    .dataframe tbody tr th:only-of-type {\n",
       "        vertical-align: middle;\n",
       "    }\n",
       "\n",
       "    .dataframe tbody tr th {\n",
       "        vertical-align: top;\n",
       "    }\n",
       "\n",
       "    .dataframe thead th {\n",
       "        text-align: right;\n",
       "    }\n",
       "</style>\n",
       "<table border=\"1\" class=\"dataframe\">\n",
       "  <thead>\n",
       "    <tr style=\"text-align: right;\">\n",
       "      <th></th>\n",
       "      <th>Order Number</th>\n",
       "      <th>Line Item</th>\n",
       "      <th>Order Date</th>\n",
       "      <th>Delivery Date</th>\n",
       "      <th>CustomerKey</th>\n",
       "      <th>StoreKey</th>\n",
       "      <th>ProductKey</th>\n",
       "      <th>Quantity</th>\n",
       "      <th>Currency Code</th>\n",
       "    </tr>\n",
       "  </thead>\n",
       "  <tbody>\n",
       "    <tr>\n",
       "      <th>0</th>\n",
       "      <td>366000</td>\n",
       "      <td>1</td>\n",
       "      <td>1/1/2016</td>\n",
       "      <td>unknown</td>\n",
       "      <td>265598</td>\n",
       "      <td>10</td>\n",
       "      <td>1304</td>\n",
       "      <td>1</td>\n",
       "      <td>CAD</td>\n",
       "    </tr>\n",
       "    <tr>\n",
       "      <th>1</th>\n",
       "      <td>366001</td>\n",
       "      <td>1</td>\n",
       "      <td>1/1/2016</td>\n",
       "      <td>1/13/2016</td>\n",
       "      <td>1269051</td>\n",
       "      <td>0</td>\n",
       "      <td>1048</td>\n",
       "      <td>2</td>\n",
       "      <td>USD</td>\n",
       "    </tr>\n",
       "  </tbody>\n",
       "</table>\n",
       "</div>"
      ],
      "text/plain": [
       "   Order Number  Line Item Order Date Delivery Date  CustomerKey  StoreKey  \\\n",
       "0        366000          1   1/1/2016       unknown       265598        10   \n",
       "1        366001          1   1/1/2016     1/13/2016      1269051         0   \n",
       "\n",
       "   ProductKey  Quantity Currency Code  \n",
       "0        1304         1           CAD  \n",
       "1        1048         2           USD  "
      ]
     },
     "execution_count": 87,
     "metadata": {},
     "output_type": "execute_result"
    }
   ],
   "source": [
    "df_sales.head(2)"
   ]
  },
  {
   "cell_type": "code",
   "execution_count": 110,
   "id": "c949fd7a-82e1-4ce6-b49a-aa8b9f65ef17",
   "metadata": {},
   "outputs": [
    {
     "data": {
      "text/html": [
       "<div>\n",
       "<style scoped>\n",
       "    .dataframe tbody tr th:only-of-type {\n",
       "        vertical-align: middle;\n",
       "    }\n",
       "\n",
       "    .dataframe tbody tr th {\n",
       "        vertical-align: top;\n",
       "    }\n",
       "\n",
       "    .dataframe thead th {\n",
       "        text-align: right;\n",
       "    }\n",
       "</style>\n",
       "<table border=\"1\" class=\"dataframe\">\n",
       "  <thead>\n",
       "    <tr style=\"text-align: right;\">\n",
       "      <th></th>\n",
       "      <th>ProductKey</th>\n",
       "      <th>Product Name</th>\n",
       "      <th>Brand</th>\n",
       "      <th>Color</th>\n",
       "      <th>Unit Cost USD</th>\n",
       "      <th>Unit Price USD</th>\n",
       "      <th>SubcategoryKey</th>\n",
       "      <th>Subcategory</th>\n",
       "      <th>CategoryKey</th>\n",
       "      <th>Category</th>\n",
       "    </tr>\n",
       "  </thead>\n",
       "  <tbody>\n",
       "    <tr>\n",
       "      <th>0</th>\n",
       "      <td>1</td>\n",
       "      <td>Contoso 512MB MP3 Player E51 Silver</td>\n",
       "      <td>Contoso</td>\n",
       "      <td>Silver</td>\n",
       "      <td>6</td>\n",
       "      <td>12.99</td>\n",
       "      <td>101</td>\n",
       "      <td>MP4&amp;MP3</td>\n",
       "      <td>1</td>\n",
       "      <td>Audio</td>\n",
       "    </tr>\n",
       "    <tr>\n",
       "      <th>1</th>\n",
       "      <td>2</td>\n",
       "      <td>Contoso 512MB MP3 Player E51 Blue</td>\n",
       "      <td>Contoso</td>\n",
       "      <td>Blue</td>\n",
       "      <td>6</td>\n",
       "      <td>12.99</td>\n",
       "      <td>101</td>\n",
       "      <td>MP4&amp;MP3</td>\n",
       "      <td>1</td>\n",
       "      <td>Audio</td>\n",
       "    </tr>\n",
       "  </tbody>\n",
       "</table>\n",
       "</div>"
      ],
      "text/plain": [
       "   ProductKey                         Product Name    Brand   Color  \\\n",
       "0           1  Contoso 512MB MP3 Player E51 Silver  Contoso  Silver   \n",
       "1           2    Contoso 512MB MP3 Player E51 Blue  Contoso    Blue   \n",
       "\n",
       "   Unit Cost USD  Unit Price USD  SubcategoryKey Subcategory  CategoryKey  \\\n",
       "0              6           12.99             101     MP4&MP3            1   \n",
       "1              6           12.99             101     MP4&MP3            1   \n",
       "\n",
       "  Category  \n",
       "0    Audio  \n",
       "1    Audio  "
      ]
     },
     "execution_count": 110,
     "metadata": {},
     "output_type": "execute_result"
    }
   ],
   "source": [
    "df_product.head(2)"
   ]
  },
  {
   "cell_type": "code",
   "execution_count": 91,
   "id": "69f3e35c-2509-4b69-879f-38ee07b6f5b4",
   "metadata": {},
   "outputs": [
    {
     "data": {
      "text/html": [
       "<div>\n",
       "<style scoped>\n",
       "    .dataframe tbody tr th:only-of-type {\n",
       "        vertical-align: middle;\n",
       "    }\n",
       "\n",
       "    .dataframe tbody tr th {\n",
       "        vertical-align: top;\n",
       "    }\n",
       "\n",
       "    .dataframe thead th {\n",
       "        text-align: right;\n",
       "    }\n",
       "</style>\n",
       "<table border=\"1\" class=\"dataframe\">\n",
       "  <thead>\n",
       "    <tr style=\"text-align: right;\">\n",
       "      <th></th>\n",
       "      <th>Date</th>\n",
       "      <th>Currency</th>\n",
       "      <th>Exchange</th>\n",
       "    </tr>\n",
       "  </thead>\n",
       "  <tbody>\n",
       "    <tr>\n",
       "      <th>0</th>\n",
       "      <td>2015-01-01</td>\n",
       "      <td>USD</td>\n",
       "      <td>1.0000</td>\n",
       "    </tr>\n",
       "    <tr>\n",
       "      <th>1</th>\n",
       "      <td>2015-01-01</td>\n",
       "      <td>CAD</td>\n",
       "      <td>1.1583</td>\n",
       "    </tr>\n",
       "  </tbody>\n",
       "</table>\n",
       "</div>"
      ],
      "text/plain": [
       "        Date Currency  Exchange\n",
       "0 2015-01-01      USD    1.0000\n",
       "1 2015-01-01      CAD    1.1583"
      ]
     },
     "execution_count": 91,
     "metadata": {},
     "output_type": "execute_result"
    }
   ],
   "source": [
    "df_exchange_rates.head(2)"
   ]
  },
  {
   "cell_type": "code",
   "execution_count": 181,
   "id": "ce4d12bf-3501-40e8-b580-63247c0fc015",
   "metadata": {},
   "outputs": [
    {
     "data": {
      "text/html": [
       "<div>\n",
       "<style scoped>\n",
       "    .dataframe tbody tr th:only-of-type {\n",
       "        vertical-align: middle;\n",
       "    }\n",
       "\n",
       "    .dataframe tbody tr th {\n",
       "        vertical-align: top;\n",
       "    }\n",
       "\n",
       "    .dataframe thead th {\n",
       "        text-align: right;\n",
       "    }\n",
       "</style>\n",
       "<table border=\"1\" class=\"dataframe\">\n",
       "  <thead>\n",
       "    <tr style=\"text-align: right;\">\n",
       "      <th></th>\n",
       "      <th>StoreKey</th>\n",
       "      <th>Store_Country</th>\n",
       "      <th>Store_State</th>\n",
       "      <th>SquareMeters</th>\n",
       "      <th>OpenDate</th>\n",
       "      <th>StoreAge</th>\n",
       "    </tr>\n",
       "  </thead>\n",
       "  <tbody>\n",
       "    <tr>\n",
       "      <th>0</th>\n",
       "      <td>1</td>\n",
       "      <td>Australia</td>\n",
       "      <td>Australian Capital Territory</td>\n",
       "      <td>595.0</td>\n",
       "      <td>2008-01-01</td>\n",
       "      <td>16</td>\n",
       "    </tr>\n",
       "    <tr>\n",
       "      <th>1</th>\n",
       "      <td>2</td>\n",
       "      <td>Australia</td>\n",
       "      <td>Northern Territory</td>\n",
       "      <td>665.0</td>\n",
       "      <td>2008-01-12</td>\n",
       "      <td>16</td>\n",
       "    </tr>\n",
       "  </tbody>\n",
       "</table>\n",
       "</div>"
      ],
      "text/plain": [
       "   StoreKey Store_Country                   Store_State  SquareMeters  \\\n",
       "0         1     Australia  Australian Capital Territory         595.0   \n",
       "1         2     Australia            Northern Territory         665.0   \n",
       "\n",
       "    OpenDate  StoreAge  \n",
       "0 2008-01-01        16  \n",
       "1 2008-01-12        16  "
      ]
     },
     "execution_count": 181,
     "metadata": {},
     "output_type": "execute_result"
    }
   ],
   "source": [
    "df_store.head(2)"
   ]
  },
  {
   "cell_type": "code",
   "execution_count": 206,
   "id": "76925d78-163a-442a-8cc8-3f46d0edd37a",
   "metadata": {},
   "outputs": [],
   "source": [
    "df=pd.merge(df_sales,df_customer,on=\"CustomerKey\")"
   ]
  },
  {
   "cell_type": "code",
   "execution_count": null,
   "id": "95d6766d-3bdb-421f-ac18-dc6438cda308",
   "metadata": {},
   "outputs": [],
   "source": []
  },
  {
   "cell_type": "code",
   "execution_count": 114,
   "id": "9dbd819c-9ea9-44c7-95bc-005db374c0c5",
   "metadata": {},
   "outputs": [
    {
     "data": {
      "text/plain": [
       "Order Number     0\n",
       "Line Item        0\n",
       "Order Date       0\n",
       "Delivery Date    0\n",
       "CustomerKey      0\n",
       "StoreKey         0\n",
       "ProductKey       0\n",
       "Quantity         0\n",
       "Currency Code    0\n",
       "Gender           0\n",
       "Name             0\n",
       "City             0\n",
       "State Code       0\n",
       "State            0\n",
       "Zip Code         0\n",
       "Country          0\n",
       "Continent        0\n",
       "Birthday         0\n",
       "dtype: int64"
      ]
     },
     "execution_count": 114,
     "metadata": {},
     "output_type": "execute_result"
    }
   ],
   "source": [
    "df.isna().sum()"
   ]
  },
  {
   "cell_type": "code",
   "execution_count": 116,
   "id": "d634d101-3191-4251-a576-257f532c16e1",
   "metadata": {},
   "outputs": [
    {
     "name": "stdout",
     "output_type": "stream",
     "text": [
      "<class 'pandas.core.frame.DataFrame'>\n",
      "RangeIndex: 62884 entries, 0 to 62883\n",
      "Data columns (total 18 columns):\n",
      " #   Column         Non-Null Count  Dtype         \n",
      "---  ------         --------------  -----         \n",
      " 0   Order Number   62884 non-null  int64         \n",
      " 1   Line Item      62884 non-null  int64         \n",
      " 2   Order Date     62884 non-null  datetime64[ns]\n",
      " 3   Delivery Date  62884 non-null  datetime64[ns]\n",
      " 4   CustomerKey    62884 non-null  int64         \n",
      " 5   StoreKey       62884 non-null  int64         \n",
      " 6   ProductKey     62884 non-null  int64         \n",
      " 7   Quantity       62884 non-null  int64         \n",
      " 8   Currency Code  62884 non-null  object        \n",
      " 9   Gender         62884 non-null  object        \n",
      " 10  Name           62884 non-null  object        \n",
      " 11  City           62884 non-null  object        \n",
      " 12  State Code     62884 non-null  object        \n",
      " 13  State          62884 non-null  object        \n",
      " 14  Zip Code       62884 non-null  object        \n",
      " 15  Country        62884 non-null  object        \n",
      " 16  Continent      62884 non-null  object        \n",
      " 17  Birthday       62884 non-null  datetime64[ns]\n",
      "dtypes: datetime64[ns](3), int64(6), object(9)\n",
      "memory usage: 8.6+ MB\n"
     ]
    }
   ],
   "source": [
    "df.info()"
   ]
  },
  {
   "cell_type": "code",
   "execution_count": null,
   "id": "b93c129d-3fc1-4657-a071-719bf7cd98b4",
   "metadata": {},
   "outputs": [],
   "source": []
  },
  {
   "cell_type": "code",
   "execution_count": 176,
   "id": "1c2e2265-23a6-4c09-bd22-9f371f65e059",
   "metadata": {},
   "outputs": [
    {
     "data": {
      "text/html": [
       "<div>\n",
       "<style scoped>\n",
       "    .dataframe tbody tr th:only-of-type {\n",
       "        vertical-align: middle;\n",
       "    }\n",
       "\n",
       "    .dataframe tbody tr th {\n",
       "        vertical-align: top;\n",
       "    }\n",
       "\n",
       "    .dataframe thead th {\n",
       "        text-align: right;\n",
       "    }\n",
       "</style>\n",
       "<table border=\"1\" class=\"dataframe\">\n",
       "  <thead>\n",
       "    <tr style=\"text-align: right;\">\n",
       "      <th></th>\n",
       "      <th>Order Number</th>\n",
       "      <th>Line Item</th>\n",
       "      <th>Order Date</th>\n",
       "      <th>Delivery Date</th>\n",
       "      <th>CustomerKey</th>\n",
       "      <th>StoreKey</th>\n",
       "      <th>ProductKey</th>\n",
       "      <th>Quantity</th>\n",
       "      <th>Currency Code</th>\n",
       "      <th>Gender</th>\n",
       "      <th>...</th>\n",
       "      <th>Unit Price USD</th>\n",
       "      <th>SubcategoryKey</th>\n",
       "      <th>Subcategory</th>\n",
       "      <th>CategoryKey</th>\n",
       "      <th>Category</th>\n",
       "      <th>Square Meters</th>\n",
       "      <th>Open Date</th>\n",
       "      <th>Date</th>\n",
       "      <th>Currency</th>\n",
       "      <th>Exchange</th>\n",
       "    </tr>\n",
       "  </thead>\n",
       "  <tbody>\n",
       "    <tr>\n",
       "      <th>0</th>\n",
       "      <td>366005</td>\n",
       "      <td>1</td>\n",
       "      <td>2016-01-01</td>\n",
       "      <td>2016-01-01</td>\n",
       "      <td>844003</td>\n",
       "      <td>33</td>\n",
       "      <td>421</td>\n",
       "      <td>4</td>\n",
       "      <td>EUR</td>\n",
       "      <td>Male</td>\n",
       "      <td>...</td>\n",
       "      <td>469.00</td>\n",
       "      <td>303</td>\n",
       "      <td>Desktops</td>\n",
       "      <td>3</td>\n",
       "      <td>Computers</td>\n",
       "      <td>1540.0</td>\n",
       "      <td>2015-12-09</td>\n",
       "      <td>2016-01-01</td>\n",
       "      <td>EUR</td>\n",
       "      <td>0.9185</td>\n",
       "    </tr>\n",
       "    <tr>\n",
       "      <th>1</th>\n",
       "      <td>367006</td>\n",
       "      <td>1</td>\n",
       "      <td>2016-01-02</td>\n",
       "      <td>2016-01-02</td>\n",
       "      <td>693285</td>\n",
       "      <td>18</td>\n",
       "      <td>2445</td>\n",
       "      <td>3</td>\n",
       "      <td>EUR</td>\n",
       "      <td>Female</td>\n",
       "      <td>...</td>\n",
       "      <td>4.99</td>\n",
       "      <td>808</td>\n",
       "      <td>Fans</td>\n",
       "      <td>8</td>\n",
       "      <td>Home Appliances</td>\n",
       "      <td>310.0</td>\n",
       "      <td>2012-08-08</td>\n",
       "      <td>2016-01-02</td>\n",
       "      <td>EUR</td>\n",
       "      <td>0.9185</td>\n",
       "    </tr>\n",
       "    <tr>\n",
       "      <th>2</th>\n",
       "      <td>367010</td>\n",
       "      <td>1</td>\n",
       "      <td>2016-01-02</td>\n",
       "      <td>2016-01-02</td>\n",
       "      <td>1322959</td>\n",
       "      <td>66</td>\n",
       "      <td>917</td>\n",
       "      <td>1</td>\n",
       "      <td>USD</td>\n",
       "      <td>Male</td>\n",
       "      <td>...</td>\n",
       "      <td>179.00</td>\n",
       "      <td>308</td>\n",
       "      <td>Computers Accessories</td>\n",
       "      <td>3</td>\n",
       "      <td>Computers</td>\n",
       "      <td>840.0</td>\n",
       "      <td>2014-01-01</td>\n",
       "      <td>2016-01-02</td>\n",
       "      <td>USD</td>\n",
       "      <td>1.0000</td>\n",
       "    </tr>\n",
       "    <tr>\n",
       "      <th>3</th>\n",
       "      <td>367010</td>\n",
       "      <td>2</td>\n",
       "      <td>2016-01-02</td>\n",
       "      <td>2016-01-02</td>\n",
       "      <td>1322959</td>\n",
       "      <td>66</td>\n",
       "      <td>39</td>\n",
       "      <td>1</td>\n",
       "      <td>USD</td>\n",
       "      <td>Male</td>\n",
       "      <td>...</td>\n",
       "      <td>299.23</td>\n",
       "      <td>101</td>\n",
       "      <td>MP4&amp;MP3</td>\n",
       "      <td>1</td>\n",
       "      <td>Audio</td>\n",
       "      <td>840.0</td>\n",
       "      <td>2014-01-01</td>\n",
       "      <td>2016-01-02</td>\n",
       "      <td>USD</td>\n",
       "      <td>1.0000</td>\n",
       "    </tr>\n",
       "    <tr>\n",
       "      <th>4</th>\n",
       "      <td>369007</td>\n",
       "      <td>1</td>\n",
       "      <td>2016-01-04</td>\n",
       "      <td>2016-01-04</td>\n",
       "      <td>571622</td>\n",
       "      <td>20</td>\n",
       "      <td>2510</td>\n",
       "      <td>3</td>\n",
       "      <td>EUR</td>\n",
       "      <td>Male</td>\n",
       "      <td>...</td>\n",
       "      <td>4.06</td>\n",
       "      <td>505</td>\n",
       "      <td>Cell phones Accessories</td>\n",
       "      <td>5</td>\n",
       "      <td>Cell phones</td>\n",
       "      <td>1715.0</td>\n",
       "      <td>2012-12-15</td>\n",
       "      <td>2016-01-04</td>\n",
       "      <td>EUR</td>\n",
       "      <td>0.9176</td>\n",
       "    </tr>\n",
       "    <tr>\n",
       "      <th>...</th>\n",
       "      <td>...</td>\n",
       "      <td>...</td>\n",
       "      <td>...</td>\n",
       "      <td>...</td>\n",
       "      <td>...</td>\n",
       "      <td>...</td>\n",
       "      <td>...</td>\n",
       "      <td>...</td>\n",
       "      <td>...</td>\n",
       "      <td>...</td>\n",
       "      <td>...</td>\n",
       "      <td>...</td>\n",
       "      <td>...</td>\n",
       "      <td>...</td>\n",
       "      <td>...</td>\n",
       "      <td>...</td>\n",
       "      <td>...</td>\n",
       "      <td>...</td>\n",
       "      <td>...</td>\n",
       "      <td>...</td>\n",
       "      <td>...</td>\n",
       "    </tr>\n",
       "    <tr>\n",
       "      <th>6176</th>\n",
       "      <td>2243014</td>\n",
       "      <td>1</td>\n",
       "      <td>2021-02-20</td>\n",
       "      <td>2021-02-20</td>\n",
       "      <td>1453427</td>\n",
       "      <td>50</td>\n",
       "      <td>423</td>\n",
       "      <td>1</td>\n",
       "      <td>USD</td>\n",
       "      <td>Male</td>\n",
       "      <td>...</td>\n",
       "      <td>599.00</td>\n",
       "      <td>303</td>\n",
       "      <td>Desktops</td>\n",
       "      <td>3</td>\n",
       "      <td>Computers</td>\n",
       "      <td>2000.0</td>\n",
       "      <td>2008-03-06</td>\n",
       "      <td>2021-02-20</td>\n",
       "      <td>USD</td>\n",
       "      <td>1.0000</td>\n",
       "    </tr>\n",
       "    <tr>\n",
       "      <th>6177</th>\n",
       "      <td>2243014</td>\n",
       "      <td>2</td>\n",
       "      <td>2021-02-20</td>\n",
       "      <td>2021-02-20</td>\n",
       "      <td>1453427</td>\n",
       "      <td>50</td>\n",
       "      <td>1617</td>\n",
       "      <td>1</td>\n",
       "      <td>USD</td>\n",
       "      <td>Male</td>\n",
       "      <td>...</td>\n",
       "      <td>57.99</td>\n",
       "      <td>602</td>\n",
       "      <td>Movie DVD</td>\n",
       "      <td>6</td>\n",
       "      <td>Music, Movies and Audio Books</td>\n",
       "      <td>2000.0</td>\n",
       "      <td>2008-03-06</td>\n",
       "      <td>2021-02-20</td>\n",
       "      <td>USD</td>\n",
       "      <td>1.0000</td>\n",
       "    </tr>\n",
       "    <tr>\n",
       "      <th>6178</th>\n",
       "      <td>2243014</td>\n",
       "      <td>3</td>\n",
       "      <td>2021-02-20</td>\n",
       "      <td>2021-02-20</td>\n",
       "      <td>1453427</td>\n",
       "      <td>50</td>\n",
       "      <td>2506</td>\n",
       "      <td>4</td>\n",
       "      <td>USD</td>\n",
       "      <td>Male</td>\n",
       "      <td>...</td>\n",
       "      <td>4.74</td>\n",
       "      <td>505</td>\n",
       "      <td>Cell phones Accessories</td>\n",
       "      <td>5</td>\n",
       "      <td>Cell phones</td>\n",
       "      <td>2000.0</td>\n",
       "      <td>2008-03-06</td>\n",
       "      <td>2021-02-20</td>\n",
       "      <td>USD</td>\n",
       "      <td>1.0000</td>\n",
       "    </tr>\n",
       "    <tr>\n",
       "      <th>6179</th>\n",
       "      <td>2243021</td>\n",
       "      <td>1</td>\n",
       "      <td>2021-02-20</td>\n",
       "      <td>2021-02-20</td>\n",
       "      <td>1783631</td>\n",
       "      <td>55</td>\n",
       "      <td>1147</td>\n",
       "      <td>4</td>\n",
       "      <td>USD</td>\n",
       "      <td>Male</td>\n",
       "      <td>...</td>\n",
       "      <td>655.00</td>\n",
       "      <td>405</td>\n",
       "      <td>Camcorders</td>\n",
       "      <td>4</td>\n",
       "      <td>Cameras and camcorders</td>\n",
       "      <td>2000.0</td>\n",
       "      <td>2009-12-15</td>\n",
       "      <td>2021-02-20</td>\n",
       "      <td>USD</td>\n",
       "      <td>1.0000</td>\n",
       "    </tr>\n",
       "    <tr>\n",
       "      <th>6180</th>\n",
       "      <td>2243021</td>\n",
       "      <td>2</td>\n",
       "      <td>2021-02-20</td>\n",
       "      <td>2021-02-20</td>\n",
       "      <td>1783631</td>\n",
       "      <td>55</td>\n",
       "      <td>1531</td>\n",
       "      <td>4</td>\n",
       "      <td>USD</td>\n",
       "      <td>Male</td>\n",
       "      <td>...</td>\n",
       "      <td>389.00</td>\n",
       "      <td>504</td>\n",
       "      <td>Smart phones &amp; PDAs</td>\n",
       "      <td>5</td>\n",
       "      <td>Cell phones</td>\n",
       "      <td>2000.0</td>\n",
       "      <td>2009-12-15</td>\n",
       "      <td>2021-02-20</td>\n",
       "      <td>USD</td>\n",
       "      <td>1.0000</td>\n",
       "    </tr>\n",
       "  </tbody>\n",
       "</table>\n",
       "<p>6181 rows × 32 columns</p>\n",
       "</div>"
      ],
      "text/plain": [
       "      Order Number  Line Item Order Date Delivery Date  CustomerKey  StoreKey  \\\n",
       "0           366005          1 2016-01-01    2016-01-01       844003        33   \n",
       "1           367006          1 2016-01-02    2016-01-02       693285        18   \n",
       "2           367010          1 2016-01-02    2016-01-02      1322959        66   \n",
       "3           367010          2 2016-01-02    2016-01-02      1322959        66   \n",
       "4           369007          1 2016-01-04    2016-01-04       571622        20   \n",
       "...            ...        ...        ...           ...          ...       ...   \n",
       "6176       2243014          1 2021-02-20    2021-02-20      1453427        50   \n",
       "6177       2243014          2 2021-02-20    2021-02-20      1453427        50   \n",
       "6178       2243014          3 2021-02-20    2021-02-20      1453427        50   \n",
       "6179       2243021          1 2021-02-20    2021-02-20      1783631        55   \n",
       "6180       2243021          2 2021-02-20    2021-02-20      1783631        55   \n",
       "\n",
       "      ProductKey  Quantity Currency Code  Gender  ... Unit Price USD  \\\n",
       "0            421         4           EUR    Male  ...         469.00   \n",
       "1           2445         3           EUR  Female  ...           4.99   \n",
       "2            917         1           USD    Male  ...         179.00   \n",
       "3             39         1           USD    Male  ...         299.23   \n",
       "4           2510         3           EUR    Male  ...           4.06   \n",
       "...          ...       ...           ...     ...  ...            ...   \n",
       "6176         423         1           USD    Male  ...         599.00   \n",
       "6177        1617         1           USD    Male  ...          57.99   \n",
       "6178        2506         4           USD    Male  ...           4.74   \n",
       "6179        1147         4           USD    Male  ...         655.00   \n",
       "6180        1531         4           USD    Male  ...         389.00   \n",
       "\n",
       "     SubcategoryKey              Subcategory CategoryKey  \\\n",
       "0               303                 Desktops           3   \n",
       "1               808                     Fans           8   \n",
       "2               308    Computers Accessories           3   \n",
       "3               101                  MP4&MP3           1   \n",
       "4               505  Cell phones Accessories           5   \n",
       "...             ...                      ...         ...   \n",
       "6176            303                 Desktops           3   \n",
       "6177            602                Movie DVD           6   \n",
       "6178            505  Cell phones Accessories           5   \n",
       "6179            405               Camcorders           4   \n",
       "6180            504      Smart phones & PDAs           5   \n",
       "\n",
       "                           Category Square Meters  Open Date       Date  \\\n",
       "0                         Computers        1540.0 2015-12-09 2016-01-01   \n",
       "1                   Home Appliances         310.0 2012-08-08 2016-01-02   \n",
       "2                         Computers         840.0 2014-01-01 2016-01-02   \n",
       "3                             Audio         840.0 2014-01-01 2016-01-02   \n",
       "4                       Cell phones        1715.0 2012-12-15 2016-01-04   \n",
       "...                             ...           ...        ...        ...   \n",
       "6176                      Computers        2000.0 2008-03-06 2021-02-20   \n",
       "6177  Music, Movies and Audio Books        2000.0 2008-03-06 2021-02-20   \n",
       "6178                    Cell phones        2000.0 2008-03-06 2021-02-20   \n",
       "6179         Cameras and camcorders        2000.0 2009-12-15 2021-02-20   \n",
       "6180                    Cell phones        2000.0 2009-12-15 2021-02-20   \n",
       "\n",
       "     Currency Exchange  \n",
       "0         EUR   0.9185  \n",
       "1         EUR   0.9185  \n",
       "2         USD   1.0000  \n",
       "3         USD   1.0000  \n",
       "4         EUR   0.9176  \n",
       "...       ...      ...  \n",
       "6176      USD   1.0000  \n",
       "6177      USD   1.0000  \n",
       "6178      USD   1.0000  \n",
       "6179      USD   1.0000  \n",
       "6180      USD   1.0000  \n",
       "\n",
       "[6181 rows x 32 columns]"
      ]
     },
     "execution_count": 176,
     "metadata": {},
     "output_type": "execute_result"
    }
   ],
   "source": [
    "df"
   ]
  },
  {
   "cell_type": "code",
   "execution_count": 84,
   "id": "43d3e87e-ff82-4251-9cfc-10a4a1db88d3",
   "metadata": {},
   "outputs": [],
   "source": []
  },
  {
   "cell_type": "code",
   "execution_count": 86,
   "id": "063cff35-ec64-400c-8be3-108549b36968",
   "metadata": {},
   "outputs": [],
   "source": []
  },
  {
   "cell_type": "code",
   "execution_count": 88,
   "id": "72e4d778-20f9-4225-a339-4295e2b98006",
   "metadata": {},
   "outputs": [
    {
     "data": {
      "text/html": [
       "<div>\n",
       "<style scoped>\n",
       "    .dataframe tbody tr th:only-of-type {\n",
       "        vertical-align: middle;\n",
       "    }\n",
       "\n",
       "    .dataframe tbody tr th {\n",
       "        vertical-align: top;\n",
       "    }\n",
       "\n",
       "    .dataframe thead th {\n",
       "        text-align: right;\n",
       "    }\n",
       "</style>\n",
       "<table border=\"1\" class=\"dataframe\">\n",
       "  <thead>\n",
       "    <tr style=\"text-align: right;\">\n",
       "      <th></th>\n",
       "    </tr>\n",
       "  </thead>\n",
       "  <tbody>\n",
       "  </tbody>\n",
       "</table>\n",
       "</div>"
      ],
      "text/plain": [
       "Empty DataFrame\n",
       "Columns: []\n",
       "Index: []"
      ]
     },
     "execution_count": 88,
     "metadata": {},
     "output_type": "execute_result"
    }
   ],
   "source": []
  },
  {
   "cell_type": "code",
   "execution_count": 208,
   "id": "35ab310d-298f-410b-b294-8502639e4043",
   "metadata": {},
   "outputs": [],
   "source": [
    "df1=pd.merge(df,df_product,on=\"ProductKey\")"
   ]
  },
  {
   "cell_type": "code",
   "execution_count": 212,
   "id": "f91a90fa-d4e5-4125-a4c5-79af4d97e0d2",
   "metadata": {},
   "outputs": [],
   "source": [
    "df2=pd.merge(df1,df_store,on=\"StoreKey\",how='left')"
   ]
  },
  {
   "cell_type": "code",
   "execution_count": null,
   "id": "2c39a84f-3800-4558-b586-0281721b7487",
   "metadata": {},
   "outputs": [],
   "source": []
  },
  {
   "cell_type": "code",
   "execution_count": 94,
   "id": "0f7330b4-11b2-4547-a4e7-2ef2194f618e",
   "metadata": {},
   "outputs": [
    {
     "data": {
      "text/html": [
       "<div>\n",
       "<style scoped>\n",
       "    .dataframe tbody tr th:only-of-type {\n",
       "        vertical-align: middle;\n",
       "    }\n",
       "\n",
       "    .dataframe tbody tr th {\n",
       "        vertical-align: top;\n",
       "    }\n",
       "\n",
       "    .dataframe thead th {\n",
       "        text-align: right;\n",
       "    }\n",
       "</style>\n",
       "<table border=\"1\" class=\"dataframe\">\n",
       "  <thead>\n",
       "    <tr style=\"text-align: right;\">\n",
       "      <th></th>\n",
       "    </tr>\n",
       "  </thead>\n",
       "  <tbody>\n",
       "  </tbody>\n",
       "</table>\n",
       "</div>"
      ],
      "text/plain": [
       "Empty DataFrame\n",
       "Columns: []\n",
       "Index: []"
      ]
     },
     "execution_count": 94,
     "metadata": {},
     "output_type": "execute_result"
    }
   ],
   "source": []
  },
  {
   "cell_type": "code",
   "execution_count": 98,
   "id": "706b2799-73c2-4b16-8601-13e6d1273744",
   "metadata": {},
   "outputs": [
    {
     "data": {
      "text/plain": [
       "Index([], dtype='object')"
      ]
     },
     "execution_count": 98,
     "metadata": {},
     "output_type": "execute_result"
    }
   ],
   "source": []
  },
  {
   "cell_type": "code",
   "execution_count": 223,
   "id": "7470c894-230c-42af-b787-4fb26a75c519",
   "metadata": {},
   "outputs": [
    {
     "data": {
      "text/plain": [
       "Date        datetime64[ns]\n",
       "Currency            object\n",
       "Exchange           float64\n",
       "dtype: object"
      ]
     },
     "execution_count": 223,
     "metadata": {},
     "output_type": "execute_result"
    }
   ],
   "source": [
    "df_exchange_rates.dtypes"
   ]
  },
  {
   "cell_type": "code",
   "execution_count": 225,
   "id": "37a99237-502f-4c42-a7b8-720c0e063ae4",
   "metadata": {},
   "outputs": [],
   "source": [
    "df3=pd.merge(df2,df_exchange_rates,left_on=[\"Order Date\",\"Currency Code\"],right_on=[\"Date\",\"Currency\"])"
   ]
  },
  {
   "cell_type": "code",
   "execution_count": 216,
   "id": "e9b34a32-0618-4b83-9d9f-e1e646359b80",
   "metadata": {},
   "outputs": [
    {
     "data": {
      "text/plain": [
       "Order Number      0\n",
       "Line Item         0\n",
       "Order Date        0\n",
       "Delivery Date     0\n",
       "CustomerKey       0\n",
       "StoreKey          0\n",
       "ProductKey        0\n",
       "Quantity          0\n",
       "Currency Code     0\n",
       "Gender            0\n",
       "Name              0\n",
       "Cust_City         0\n",
       "State Code        0\n",
       "Cust_State        0\n",
       "Zip Code          0\n",
       "Cust_Country      0\n",
       "Cust_Continent    0\n",
       "Birthday          0\n",
       "Age               0\n",
       "Product Name      0\n",
       "Brand             0\n",
       "Color             0\n",
       "Unit Cost USD     0\n",
       "Unit Price USD    0\n",
       "SubcategoryKey    0\n",
       "Subcategory       0\n",
       "CategoryKey       0\n",
       "Category          0\n",
       "Store_Country     0\n",
       "Store_State       0\n",
       "SquareMeters      0\n",
       "OpenDate          0\n",
       "StoreAge          0\n",
       "Date              0\n",
       "Currency          0\n",
       "Exchange          0\n",
       "dtype: int64"
      ]
     },
     "execution_count": 216,
     "metadata": {},
     "output_type": "execute_result"
    }
   ],
   "source": [
    "df3.isna().sum()"
   ]
  },
  {
   "cell_type": "code",
   "execution_count": 218,
   "id": "62b54c3d-59c1-43c9-b601-a9ac551f32db",
   "metadata": {},
   "outputs": [],
   "source": [
    "df.drop_duplicates(inplace=True)"
   ]
  },
  {
   "cell_type": "code",
   "execution_count": 220,
   "id": "560e9242-4d49-4ecb-ae36-fffb7eb41fcd",
   "metadata": {},
   "outputs": [],
   "source": [
    "df3.drop(columns=['Date', 'Currency'], inplace=True)"
   ]
  },
  {
   "cell_type": "code",
   "execution_count": 227,
   "id": "3a572243-17b2-43a7-88f8-6299bd36fbd9",
   "metadata": {},
   "outputs": [
    {
     "name": "stdout",
     "output_type": "stream",
     "text": [
      "<class 'pandas.core.frame.DataFrame'>\n",
      "RangeIndex: 62884 entries, 0 to 62883\n",
      "Data columns (total 36 columns):\n",
      " #   Column          Non-Null Count  Dtype         \n",
      "---  ------          --------------  -----         \n",
      " 0   Order Number    62884 non-null  int64         \n",
      " 1   Line Item       62884 non-null  int64         \n",
      " 2   Order Date      62884 non-null  datetime64[ns]\n",
      " 3   Delivery Date   62884 non-null  datetime64[ns]\n",
      " 4   CustomerKey     62884 non-null  int64         \n",
      " 5   StoreKey        62884 non-null  int64         \n",
      " 6   ProductKey      62884 non-null  int64         \n",
      " 7   Quantity        62884 non-null  int64         \n",
      " 8   Currency Code   62884 non-null  object        \n",
      " 9   Gender          62884 non-null  object        \n",
      " 10  Name            62884 non-null  object        \n",
      " 11  Cust_City       62884 non-null  object        \n",
      " 12  State Code      62884 non-null  object        \n",
      " 13  Cust_State      62884 non-null  object        \n",
      " 14  Zip Code        62884 non-null  object        \n",
      " 15  Cust_Country    62884 non-null  object        \n",
      " 16  Cust_Continent  62884 non-null  object        \n",
      " 17  Birthday        62884 non-null  datetime64[ns]\n",
      " 18  Age             62884 non-null  int64         \n",
      " 19  Product Name    62884 non-null  object        \n",
      " 20  Brand           62884 non-null  object        \n",
      " 21  Color           62884 non-null  object        \n",
      " 22  Unit Cost USD   62884 non-null  int32         \n",
      " 23  Unit Price USD  62884 non-null  float64       \n",
      " 24  SubcategoryKey  62884 non-null  int64         \n",
      " 25  Subcategory     62884 non-null  object        \n",
      " 26  CategoryKey     62884 non-null  int64         \n",
      " 27  Category        62884 non-null  object        \n",
      " 28  Store_Country   62884 non-null  object        \n",
      " 29  Store_State     62884 non-null  object        \n",
      " 30  SquareMeters    62884 non-null  float64       \n",
      " 31  OpenDate        62884 non-null  datetime64[ns]\n",
      " 32  StoreAge        62884 non-null  int64         \n",
      " 33  Date            62884 non-null  datetime64[ns]\n",
      " 34  Currency        62884 non-null  object        \n",
      " 35  Exchange        62884 non-null  float64       \n",
      "dtypes: datetime64[ns](5), float64(3), int32(1), int64(10), object(17)\n",
      "memory usage: 17.0+ MB\n"
     ]
    }
   ],
   "source": [
    "df3.info()"
   ]
  },
  {
   "cell_type": "markdown",
   "id": "2946ebfe-837d-4258-ad04-f9ac3c14e3b2",
   "metadata": {},
   "source": [
    "# Feature Engineering"
   ]
  },
  {
   "cell_type": "code",
   "execution_count": 230,
   "id": "b0400a41-ac82-4145-99ea-5feaa1eafb6b",
   "metadata": {},
   "outputs": [],
   "source": [
    "# Function to Categorize Order Frequency by Customer\n",
    "def categorize_frequency(count):\n",
    "    if count >= 1 and count <= 4:\n",
    "        return 'Occasional'\n",
    "    elif count >= 5 and count <= 10:\n",
    "        return 'Moderate'\n",
    "    elif count > 10:\n",
    "        return 'Frequent'\n",
    "    else:\n",
    "        return 'Unknown'"
   ]
  },
  {
   "cell_type": "code",
   "execution_count": 238,
   "id": "688998dc-7ba6-45f7-8801-25e55927cc93",
   "metadata": {},
   "outputs": [
    {
     "name": "stdout",
     "output_type": "stream",
     "text": [
      "\n",
      "Merging of datasets completed ....\n"
     ]
    }
   ],
   "source": [
    "#Calculating Reveunue Per Customer USD and Profit Per CustomerUSD\n",
    "df3['RevenueUSD'] = df3['Quantity'] *df3['Unit Price USD']\n",
    "df3['ProfitUSD'] = df3['RevenueUSD']- ((df3['Quantity'] * df3['Unit Cost USD']))\n",
    "\n",
    "# Number of orders per Customer\n",
    "order_counts = df3.groupby('CustomerKey')['Order Number'].count()\n",
    "\n",
    "# Categorize Order Frequency\n",
    "order_counts_category = order_counts.apply(categorize_frequency)\n",
    "\n",
    "# Reset index to merge to dataframe\n",
    "order_counts_category = order_counts_category.reset_index(name='Frequency')\n",
    "\n",
    "# Merge with the original DataFrame\n",
    "df3= df3.merge(order_counts_category, on='CustomerKey', how='left')\n",
    "\n",
    "#final_merged.info()\n",
    "df3.to_csv(\"Merged_Data.csv\", index=False)\n",
    "print(\"\\nMerging of datasets completed ....\")"
   ]
  },
  {
   "cell_type": "code",
   "execution_count": 240,
   "id": "f54754af-73b6-4766-97a2-8c73c7803eec",
   "metadata": {},
   "outputs": [
    {
     "data": {
      "text/plain": [
       "CustomerKey\n",
       "301         1\n",
       "325        10\n",
       "554         4\n",
       "1042        3\n",
       "1314        5\n",
       "           ..\n",
       "2099383     6\n",
       "2099600     3\n",
       "2099758     4\n",
       "2099862     3\n",
       "2099937     6\n",
       "Name: Order Number, Length: 11887, dtype: int64"
      ]
     },
     "execution_count": 240,
     "metadata": {},
     "output_type": "execute_result"
    }
   ],
   "source": [
    "order_counts"
   ]
  },
  {
   "cell_type": "code",
   "execution_count": null,
   "id": "72938c9b-5222-4e7e-9afc-3ca9067b33ee",
   "metadata": {},
   "outputs": [],
   "source": []
  },
  {
   "cell_type": "code",
   "execution_count": null,
   "id": "c0652d31-4118-427c-85f3-7df495c96688",
   "metadata": {},
   "outputs": [],
   "source": []
  },
  {
   "cell_type": "code",
   "execution_count": null,
   "id": "ab04b16e-5060-47c7-b9b3-fc4567dc6688",
   "metadata": {},
   "outputs": [],
   "source": []
  },
  {
   "cell_type": "code",
   "execution_count": 180,
   "id": "a557df0e-1e68-4d6a-9aab-c0a17186cd22",
   "metadata": {},
   "outputs": [
    {
     "data": {
      "text/plain": [
       "Order Number               int64\n",
       "Line Item                  int64\n",
       "Order Date        datetime64[ns]\n",
       "Delivery Date     datetime64[ns]\n",
       "CustomerKey                int64\n",
       "StoreKey                   int64\n",
       "ProductKey                 int64\n",
       "Quantity                   int64\n",
       "Currency Code             object\n",
       "Gender                    object\n",
       "Name                      object\n",
       "City                      object\n",
       "State Code                object\n",
       "State                     object\n",
       "Zip Code                  object\n",
       "Country                   object\n",
       "Continent                 object\n",
       "Birthday          datetime64[ns]\n",
       "Product Name              object\n",
       "Brand                     object\n",
       "Color                     object\n",
       "Unit Cost USD              int32\n",
       "Unit Price USD           float64\n",
       "SubcategoryKey             int64\n",
       "Subcategory               object\n",
       "CategoryKey                int64\n",
       "Category                  object\n",
       "Square Meters            float64\n",
       "Open Date         datetime64[ns]\n",
       "Date              datetime64[ns]\n",
       "Currency                  object\n",
       "Exchange                 float64\n",
       "dtype: object"
      ]
     },
     "execution_count": 180,
     "metadata": {},
     "output_type": "execute_result"
    }
   ],
   "source": [
    "df.dtypes"
   ]
  },
  {
   "cell_type": "code",
   "execution_count": null,
   "id": "837c1428-7d14-41ce-9410-fae1a72383da",
   "metadata": {},
   "outputs": [],
   "source": []
  }
 ],
 "metadata": {
  "kernelspec": {
   "display_name": "Python 3 (ipykernel)",
   "language": "python",
   "name": "python3"
  },
  "language_info": {
   "codemirror_mode": {
    "name": "ipython",
    "version": 3
   },
   "file_extension": ".py",
   "mimetype": "text/x-python",
   "name": "python",
   "nbconvert_exporter": "python",
   "pygments_lexer": "ipython3",
   "version": "3.12.4"
  }
 },
 "nbformat": 4,
 "nbformat_minor": 5
}
